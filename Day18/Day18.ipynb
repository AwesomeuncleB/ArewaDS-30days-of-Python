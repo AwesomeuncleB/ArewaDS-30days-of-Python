{
 "cells": [
  {
   "cell_type": "code",
   "execution_count": 1,
   "id": "08854556",
   "metadata": {},
   "outputs": [
    {
     "name": "stdout",
     "output_type": "stream",
     "text": [
      "i: 2\n",
      "love: 6\n",
      "teaching: 2\n",
      "if: 2\n",
      "you: 5\n",
      "do: 2\n",
      "not: 2\n",
      "what: 2\n",
      "else: 2\n",
      "can: 3\n",
      "python: 1\n",
      "something: 1\n",
      "which: 1\n",
      "give: 1\n",
      "all: 1\n",
      "the: 1\n",
      "capabilities: 1\n",
      "to: 1\n",
      "develop: 1\n",
      "an: 1\n",
      "application: 1\n"
     ]
    }
   ],
   "source": [
    "import re\n",
    "from collections import Counter\n",
    "\n",
    "paragraph = 'I love teaching. If you do not love teaching what else can you love. I love Python if you do not love something which can give you all the capabilities to develop an application what else can you love.'\n",
    "\n",
    "words = re.findall(r'\\b\\w+\\b', paragraph.lower())\n",
    "\n",
    "# the frequency of each word\n",
    "word_counts = Counter(words)\n",
    "\n",
    "# The breakdown of word counts\n",
    "for word, count in word_counts.items():\n",
    "    print(f'{word}: {count}')\n"
   ]
  },
  {
   "cell_type": "code",
   "execution_count": 2,
   "id": "4ef21081",
   "metadata": {},
   "outputs": [
    {
     "name": "stdout",
     "output_type": "stream",
     "text": [
      "The two furthest particles are -12 and 8.\n",
      "The distance between them is 20.\n"
     ]
    }
   ],
   "source": [
    "text = \"The position of some particles on the horizontal x-axis are -12, -4, -3 and -1 in the negative direction, 0 at origin, 4 and 8 in the positive direction.\"\n",
    "\n",
    "# Extract numbers using regex\n",
    "numbers = list(map(int, re.findall(r'-?\\d+', text)))\n",
    "\n",
    "# Find the two furthest particles\n",
    "numbers.sort()\n",
    "furthest_particles = (numbers[0], numbers[-1])\n",
    "\n",
    "# Calculate the distance between the two furthest particles\n",
    "distance = abs(furthest_particles[1] - furthest_particles[0])\n",
    "\n",
    "print(f\"The two furthest particles are {furthest_particles[0]} and {furthest_particles[1]}.\")\n",
    "print(f\"The distance between them is {distance}.\")\n"
   ]
  },
  {
   "cell_type": "code",
   "execution_count": 3,
   "id": "6f3a4f58",
   "metadata": {},
   "outputs": [
    {
     "name": "stdout",
     "output_type": "stream",
     "text": [
      "True\n",
      "False\n",
      "False\n",
      "True\n"
     ]
    }
   ],
   "source": [
    "import re\n",
    "\n",
    "def is_valid_variable(variable):\n",
    "    pattern = re.compile(r'^[a-zA-Z_][a-zA-Z0-9_]*$')\n",
    "    return bool(pattern.match(variable))\n",
    "\n",
    "print(is_valid_variable('first_name'))  # True\n",
    "print(is_valid_variable('first-name'))  # False\n",
    "print(is_valid_variable('1first_name'))  # False\n",
    "print(is_valid_variable('firstname'))    # True\n"
   ]
  },
  {
   "cell_type": "code",
   "execution_count": 4,
   "id": "75500ed1",
   "metadata": {},
   "outputs": [
    {
     "name": "stdout",
     "output_type": "stream",
     "text": [
      "Cleaned Text: i am a teacher and i love teaching there is nothing as more rewarding as educating and empowering people i found teaching more interesting than any other jobs does this motivate you to be a teacher\n",
      "\n",
      "Three Most Frequent Words: [('i', 3), ('a', 2), ('teacher', 2)]\n"
     ]
    }
   ],
   "source": [
    "sentence = '''%I $am@% a %tea@cher%, &and& I lo%#ve %tea@ching%;. There $is nothing; &as& mo@re rewarding as educa@ting &and& @emp%o@wering peo@ple. ;I found tea@ching m%o@re interesting tha@n any other %jo@bs. %Do@es thi%s mo@tivate yo@u to be a tea@cher!?'''\n",
    "\n",
    "# Removing special characters and converting it to lowercase\n",
    "cleaned_text = re.sub(r'[^a-zA-Z\\s]', '', sentence).lower()\n",
    "\n",
    "words = cleaned_text.split()\n",
    "\n",
    "# occurrences of each word\n",
    "word_counts = Counter(words)\n",
    "\n",
    "# the three most frequent words\n",
    "most_common_words = word_counts.most_common(3)\n",
    "\n",
    "print(\"Cleaned Text:\", cleaned_text)\n",
    "print(\"\\nThree Most Frequent Words:\", most_common_words)\n"
   ]
  }
 ],
 "metadata": {
  "kernelspec": {
   "display_name": "Python 3 (ipykernel)",
   "language": "python",
   "name": "python3"
  },
  "language_info": {
   "codemirror_mode": {
    "name": "ipython",
    "version": 3
   },
   "file_extension": ".py",
   "mimetype": "text/x-python",
   "name": "python",
   "nbconvert_exporter": "python",
   "pygments_lexer": "ipython3",
   "version": "3.11.3"
  }
 },
 "nbformat": 4,
 "nbformat_minor": 5
}
