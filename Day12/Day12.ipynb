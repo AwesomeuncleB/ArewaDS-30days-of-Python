{
 "cells": [
  {
   "cell_type": "code",
   "execution_count": 2,
   "id": "1da4bb58",
   "metadata": {},
   "outputs": [
    {
     "name": "stdout",
     "output_type": "stream",
     "text": [
      "meme0i\n"
     ]
    }
   ],
   "source": [
    "import random\n",
    "import string\n",
    "\n",
    "def random_user_id():\n",
    "    return ''.join(random.choices(string.ascii_lowercase + string.digits, k=6))\n",
    "\n",
    "print(random_user_id())\n"
   ]
  },
  {
   "cell_type": "code",
   "execution_count": 3,
   "id": "7196d7dc",
   "metadata": {},
   "outputs": [
    {
     "name": "stdout",
     "output_type": "stream",
     "text": [
      "Enter the number of characters: 56\n",
      "Enter the number of IDs to generate: 10\n",
      "['sjfqo26p8fut85qwzhcq9tf0ysj586ul7u93u2b1otssj611q3329ovz', '7xvbgvqyprx5zfd0u5ee7rfcrisgdwxsq8p06wab7b1hd8ukchn1160s', '4amx435016s5ubb5cy9se3htwfvsc0yz9ct4fwbdbd8erxhoc3oykew1', 'cyclpet0glhwjjwwkbfh5hj60nl8p91akh5hmiread9bh1jw79eak49p', '9r5imo1tbu0hpcyygqlsimnd7vhkq9ni8ssb99f4hqi7mbyyz6wbmrqw', 'nelcc55w0jgqz2ivbnmvn23z70cgooz9igkfz1aslzf9lzgpljlmwi25', 'dd9crcu14dy2xqkq4klt9zqblvntj9lvee1phccsbcdsjplavw1f8q29', 'y0nrgw4m27sy0k4qiigq7uwkf7waf5vz8n79t0xmwc782q2znckerzhl', 'cot1grk611pl8edo5zvo9cmesz27vb5efhna9tumziuwx61bi527hjzh', '3gfcr8mbw47iyjfoe3l2qdy0vmxjfval7yt8ybmwuk44muvmwnw4b0eu']\n"
     ]
    }
   ],
   "source": [
    "def user_id_gen_by_user():\n",
    "    char_count = int(input(\"Enter the number of characters: \"))\n",
    "    id_count = int(input(\"Enter the number of IDs to generate: \"))\n",
    "    user_ids = []\n",
    "\n",
    "    for _ in range(id_count):\n",
    "        user_ids.append(''.join(random.choices(string.ascii_lowercase + string.digits, k=char_count)))\n",
    "\n",
    "    return user_ids\n",
    "\n",
    "print(user_id_gen_by_user())\n",
    "\n"
   ]
  },
  {
   "cell_type": "code",
   "execution_count": 4,
   "id": "14e0ee16",
   "metadata": {},
   "outputs": [
    {
     "name": "stdout",
     "output_type": "stream",
     "text": [
      "rgb(143, 114, 160)\n"
     ]
    }
   ],
   "source": [
    "def rgb_color_gen():\n",
    "    return f\"rgb({random.randint(0, 255)}, {random.randint(0, 255)}, {random.randint(0, 255)})\"\n",
    "\n",
    "print(rgb_color_gen())\n"
   ]
  },
  {
   "cell_type": "code",
   "execution_count": 5,
   "id": "9ffd6841",
   "metadata": {},
   "outputs": [
    {
     "name": "stdout",
     "output_type": "stream",
     "text": [
      "['#0c26d3', '#189b10', '#6858bc']\n"
     ]
    }
   ],
   "source": [
    "def list_of_hexa_colors(num_colors):\n",
    "    return ['#' + ''.join(random.choices('0123456789abcdef', k=6)) for _ in range(num_colors)]\n",
    "\n",
    "print(list_of_hexa_colors(3))"
   ]
  },
  {
   "cell_type": "code",
   "execution_count": 6,
   "id": "9c44c859",
   "metadata": {},
   "outputs": [
    {
     "name": "stdout",
     "output_type": "stream",
     "text": [
      "['rgb(250, 162, 70)', 'rgb(12, 59, 34)', 'rgb(177, 109, 203)']\n"
     ]
    }
   ],
   "source": [
    "def list_of_rgb_colors(num_colors):\n",
    "    return [rgb_color_gen() for _ in range(num_colors)]\n",
    "\n",
    "print(list_of_rgb_colors(3))"
   ]
  },
  {
   "cell_type": "code",
   "execution_count": 8,
   "id": "d25f9d2f",
   "metadata": {},
   "outputs": [
    {
     "name": "stdout",
     "output_type": "stream",
     "text": [
      "['#c39ebc', '#76824a', '#a6c624']\n",
      "['rgb(137, 146, 11)', 'rgb(43, 99, 173)', 'rgb(172, 19, 61)']\n"
     ]
    }
   ],
   "source": [
    "def generate_colors(color_type, num_colors):\n",
    "    if color_type == 'hexa':\n",
    "        return list_of_hexa_colors(num_colors)\n",
    "    elif color_type == 'rgb':\n",
    "        return list_of_rgb_colors(num_colors)\n",
    "    else:\n",
    "        return []\n",
    "\n",
    "print(generate_colors('hexa', 3))\n",
    "print(generate_colors('rgb', 3))"
   ]
  },
  {
   "cell_type": "code",
   "execution_count": 9,
   "id": "4555c223",
   "metadata": {},
   "outputs": [
    {
     "name": "stdout",
     "output_type": "stream",
     "text": [
      "Shuffled List: [1, 4, 2, 5, 10, 9, 8, 3, 7, 6]\n"
     ]
    }
   ],
   "source": [
    "def shuffle_list(input_list):\n",
    "    shuffled_list = input_list.copy()\n",
    "    random.shuffle(shuffled_list)\n",
    "    return shuffled_list\n",
    "\n",
    "# Example\n",
    "my_list = [1, 2, 3, 4, 5, 6, 7, 8, 9, 10]\n",
    "shuffled_result = shuffle_list(my_list)\n",
    "print(\"Shuffled List:\", shuffled_result)"
   ]
  },
  {
   "cell_type": "code",
   "execution_count": 10,
   "id": "77cb3b30",
   "metadata": {},
   "outputs": [
    {
     "name": "stdout",
     "output_type": "stream",
     "text": [
      "Random Unique Numbers: [5, 4, 2, 8, 7, 0, 6]\n"
     ]
    }
   ],
   "source": [
    "def generate_unique_numbers():\n",
    "    unique_numbers = random.sample(range(10), 7)\n",
    "    return unique_numbers\n",
    "\n",
    "random_numbers = generate_unique_numbers()\n",
    "print(\"Random Unique Numbers:\", random_numbers)"
   ]
  }
 ],
 "metadata": {
  "kernelspec": {
   "display_name": "Python 3 (ipykernel)",
   "language": "python",
   "name": "python3"
  },
  "language_info": {
   "codemirror_mode": {
    "name": "ipython",
    "version": 3
   },
   "file_extension": ".py",
   "mimetype": "text/x-python",
   "name": "python",
   "nbconvert_exporter": "python",
   "pygments_lexer": "ipython3",
   "version": "3.11.3"
  }
 },
 "nbformat": 4,
 "nbformat_minor": 5
}
