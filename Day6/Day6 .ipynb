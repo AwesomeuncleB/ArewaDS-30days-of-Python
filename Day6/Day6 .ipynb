{
 "cells": [
  {
   "cell_type": "code",
   "execution_count": 1,
   "id": "56686e40",
   "metadata": {},
   "outputs": [],
   "source": [
    "# Task 1: Create an empty tuple\n",
    "empty_tuple = ()"
   ]
  },
  {
   "cell_type": "code",
   "execution_count": 2,
   "id": "d3e04e81",
   "metadata": {},
   "outputs": [
    {
     "data": {
      "text/plain": [
       "('David', 'Evan', 'Frank', 'Alice', 'Bobette', 'Carol')"
      ]
     },
     "execution_count": 2,
     "metadata": {},
     "output_type": "execute_result"
    }
   ],
   "source": [
    "# Task 2: Create a tuple containing names of your sisters and your brothers\n",
    "sisters = ('Alice', 'Bobette', 'Carol')\n",
    "brothers = ('David', 'Evan', 'Frank')\n",
    "siblings = brothers + sisters\n",
    "\n",
    "siblings"
   ]
  },
  {
   "cell_type": "code",
   "execution_count": 3,
   "id": "c09eb907",
   "metadata": {},
   "outputs": [
    {
     "name": "stdout",
     "output_type": "stream",
     "text": [
      "Number of siblings: 6\n"
     ]
    }
   ],
   "source": [
    "# Task 3: How many siblings do you have?\n",
    "num_siblings = len(siblings)\n",
    "print(f'Number of siblings: {num_siblings}')\n"
   ]
  },
  {
   "cell_type": "code",
   "execution_count": 4,
   "id": "08f3f9ad",
   "metadata": {},
   "outputs": [
    {
     "data": {
      "text/plain": [
       "('Father', 'Mother', 'David', 'Evan', 'Frank', 'Alice', 'Bobette', 'Carol')"
      ]
     },
     "execution_count": 4,
     "metadata": {},
     "output_type": "execute_result"
    }
   ],
   "source": [
    "# Task 4: Modify the siblings tuple and add the name of your father and mother\n",
    "family_members = ('Father', 'Mother') + siblings\n",
    "\n",
    "family_members\n"
   ]
  },
  {
   "cell_type": "code",
   "execution_count": 5,
   "id": "52b0d601",
   "metadata": {},
   "outputs": [
    {
     "name": "stdout",
     "output_type": "stream",
     "text": [
      "Father: Father, Mother: Mother, Siblings: ['David', 'Evan', 'Frank', 'Alice', 'Bobette', 'Carol']\n"
     ]
    }
   ],
   "source": [
    "# Task 5: Unpack siblings and parents from family_members\n",
    "father, mother, *siblings = family_members\n",
    "print(f'Father: {father}, Mother: {mother}, Siblings: {siblings}')"
   ]
  },
  {
   "cell_type": "code",
   "execution_count": 6,
   "id": "3e3f3c07",
   "metadata": {},
   "outputs": [],
   "source": [
    "# Task 6: Create fruits, vegetables, and animal products tuples\n",
    "fruits = ('Apple', 'Banana', 'Orange')\n",
    "vegetables = ('Carrot', 'Broccoli', 'Spinach')\n",
    "animal_products = ('Chicken', 'Beef', 'Eggs')"
   ]
  },
  {
   "cell_type": "code",
   "execution_count": 7,
   "id": "0312d915",
   "metadata": {},
   "outputs": [
    {
     "data": {
      "text/plain": [
       "('Apple', 'Banana', 'Orange')"
      ]
     },
     "execution_count": 7,
     "metadata": {},
     "output_type": "execute_result"
    }
   ],
   "source": [
    "fruits"
   ]
  },
  {
   "cell_type": "code",
   "execution_count": 8,
   "id": "f91b5c92",
   "metadata": {},
   "outputs": [
    {
     "data": {
      "text/plain": [
       "('Carrot', 'Broccoli', 'Spinach')"
      ]
     },
     "execution_count": 8,
     "metadata": {},
     "output_type": "execute_result"
    }
   ],
   "source": [
    "vegetables"
   ]
  },
  {
   "cell_type": "code",
   "execution_count": 9,
   "id": "0d854381",
   "metadata": {},
   "outputs": [
    {
     "data": {
      "text/plain": [
       "('Chicken', 'Beef', 'Eggs')"
      ]
     },
     "execution_count": 9,
     "metadata": {},
     "output_type": "execute_result"
    }
   ],
   "source": [
    "animal_products"
   ]
  },
  {
   "cell_type": "code",
   "execution_count": 11,
   "id": "782e7f7a",
   "metadata": {},
   "outputs": [
    {
     "data": {
      "text/plain": [
       "('Apple',\n",
       " 'Banana',\n",
       " 'Orange',\n",
       " 'Carrot',\n",
       " 'Broccoli',\n",
       " 'Spinach',\n",
       " 'Chicken',\n",
       " 'Beef',\n",
       " 'Eggs')"
      ]
     },
     "execution_count": 11,
     "metadata": {},
     "output_type": "execute_result"
    }
   ],
   "source": [
    "# Join the three tuples and assign it to a variable called food_stuff_tp\n",
    "food_stuff_tp = fruits + vegetables + animal_products\n",
    "food_stuff_tp"
   ]
  },
  {
   "cell_type": "code",
   "execution_count": 13,
   "id": "faa8ea31",
   "metadata": {},
   "outputs": [
    {
     "data": {
      "text/plain": [
       "['Apple',\n",
       " 'Banana',\n",
       " 'Orange',\n",
       " 'Carrot',\n",
       " 'Broccoli',\n",
       " 'Spinach',\n",
       " 'Chicken',\n",
       " 'Beef',\n",
       " 'Eggs']"
      ]
     },
     "execution_count": 13,
     "metadata": {},
     "output_type": "execute_result"
    }
   ],
   "source": [
    "# Task 7: Change the about food_stuff_tp tuple to a food_stuff_lt list\n",
    "food_stuff_lt = list(food_stuff_tp)\n",
    "food_stuff_lt"
   ]
  },
  {
   "cell_type": "code",
   "execution_count": 14,
   "id": "c82312e2",
   "metadata": {},
   "outputs": [
    {
     "name": "stdout",
     "output_type": "stream",
     "text": [
      "Middle item: Broccoli\n"
     ]
    }
   ],
   "source": [
    "# Task 8: Slice out the middle item or items from the food_stuff_tp tuple or food_stuff_lt list\n",
    "middle_index = len(food_stuff_lt) // 2\n",
    "middle_item = food_stuff_lt[middle_index] if len(food_stuff_lt) % 2 != 0 else [food_stuff_lt[middle_index - 1], food_stuff_lt[middle_index]]\n",
    "print(f'Middle item: {middle_item}')"
   ]
  },
  {
   "cell_type": "code",
   "execution_count": 15,
   "id": "07ae4250",
   "metadata": {},
   "outputs": [
    {
     "name": "stdout",
     "output_type": "stream",
     "text": [
      "First three items: ['Apple', 'Banana', 'Orange']\n",
      "Last three items: ['Chicken', 'Beef', 'Eggs']\n"
     ]
    }
   ],
   "source": [
    "# Task 9: Slice out the first three items and the last three items from food_stuff_lt list\n",
    "first_three_items = food_stuff_lt[:3]\n",
    "last_three_items = food_stuff_lt[-3:]\n",
    "print(f'First three items: {first_three_items}')\n",
    "print(f'Last three items: {last_three_items}')"
   ]
  },
  {
   "cell_type": "code",
   "execution_count": 17,
   "id": "f7b44680",
   "metadata": {},
   "outputs": [
    {
     "ename": "NameError",
     "evalue": "name 'food_stuff_tp' is not defined",
     "output_type": "error",
     "traceback": [
      "\u001b[1;31m---------------------------------------------------------------------------\u001b[0m",
      "\u001b[1;31mNameError\u001b[0m                                 Traceback (most recent call last)",
      "Cell \u001b[1;32mIn[17], line 2\u001b[0m\n\u001b[0;32m      1\u001b[0m \u001b[38;5;66;03m# Task 10: Delete the food_staff_tp tuple completely\u001b[39;00m\n\u001b[1;32m----> 2\u001b[0m \u001b[38;5;28;01mdel\u001b[39;00m \u001b[43mfood_stuff_tp\u001b[49m\n\u001b[0;32m      3\u001b[0m food_stuff_tp\n",
      "\u001b[1;31mNameError\u001b[0m: name 'food_stuff_tp' is not defined"
     ]
    }
   ],
   "source": [
    "# Task 10: Delete the food_staff_tp tuple completely\n",
    "del food_stuff_tp\n",
    "food_stuff_tp"
   ]
  },
  {
   "cell_type": "code",
   "execution_count": 18,
   "id": "2287c9c7",
   "metadata": {},
   "outputs": [
    {
     "name": "stdout",
     "output_type": "stream",
     "text": [
      "Is Estonia a Nordic country? False\n"
     ]
    }
   ],
   "source": [
    "# Task 11: Check if an item exists in tuple\n",
    "# Check if 'Estonia' is a nordic country\n",
    "nordic_countries = ('Denmark', 'Finland', 'Iceland', 'Norway', 'Sweden')\n",
    "is_estonia_nordic = 'Estonia' in nordic_countries\n",
    "print(f\"Is Estonia a Nordic country? {is_estonia_nordic}\")"
   ]
  },
  {
   "cell_type": "code",
   "execution_count": 19,
   "id": "2c653f5c",
   "metadata": {},
   "outputs": [
    {
     "name": "stdout",
     "output_type": "stream",
     "text": [
      "Is Iceland a Nordic country? True\n"
     ]
    }
   ],
   "source": [
    "# Check if 'Iceland' is a nordic country\n",
    "is_iceland_nordic = 'Iceland' in nordic_countries\n",
    "print(f\"Is Iceland a Nordic country? {is_iceland_nordic}\")"
   ]
  }
 ],
 "metadata": {
  "kernelspec": {
   "display_name": "Python 3 (ipykernel)",
   "language": "python",
   "name": "python3"
  },
  "language_info": {
   "codemirror_mode": {
    "name": "ipython",
    "version": 3
   },
   "file_extension": ".py",
   "mimetype": "text/x-python",
   "name": "python",
   "nbconvert_exporter": "python",
   "pygments_lexer": "ipython3",
   "version": "3.11.3"
  }
 },
 "nbformat": 4,
 "nbformat_minor": 5
}
