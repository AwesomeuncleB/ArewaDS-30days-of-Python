{
 "cells": [
  {
   "cell_type": "code",
   "execution_count": 1,
   "id": "d7c98f5f",
   "metadata": {},
   "outputs": [],
   "source": [
    "# Task 1: Create an empty dictionary called dog\n",
    "dog = {}\n",
    "\n",
    "# Task 2: Add name, color, breed, legs, age to the dog dictionary\n",
    "dog['name'] = 'Buddy'\n",
    "dog['color'] = 'Brown'\n",
    "dog['breed'] = 'Labrador'\n",
    "dog['legs'] = 4\n",
    "dog['age'] = 3"
   ]
  },
  {
   "cell_type": "code",
   "execution_count": 2,
   "id": "e0fdb8ad",
   "metadata": {},
   "outputs": [],
   "source": [
    "# Task 3: Create a student dictionary and add various keys and values\n",
    "student = {\n",
    "    'first_name': 'John',\n",
    "    'last_name': 'Doe',\n",
    "    'gender': 'Male',\n",
    "    'age': 20,\n",
    "    'marital_status': 'Single',\n",
    "    'skills': ['Python', 'JavaScript'],\n",
    "    'country': 'USA',\n",
    "    'city': 'New York',\n",
    "    'address': '123 Main Street'\n",
    "}"
   ]
  },
  {
   "cell_type": "code",
   "execution_count": 3,
   "id": "61277353",
   "metadata": {},
   "outputs": [
    {
     "name": "stdout",
     "output_type": "stream",
     "text": [
      "Length of student dictionary: 9\n"
     ]
    }
   ],
   "source": [
    "# Task 4: Get the length of the student dictionary\n",
    "length_of_student_dict = len(student)\n",
    "print(f'Length of student dictionary: {length_of_student_dict}')"
   ]
  },
  {
   "cell_type": "code",
   "execution_count": 4,
   "id": "80b87af9",
   "metadata": {},
   "outputs": [
    {
     "name": "stdout",
     "output_type": "stream",
     "text": [
      "Skills value: ['Python', 'JavaScript'], Type: <class 'list'>\n"
     ]
    }
   ],
   "source": [
    "# Task 5: Get the value of skills and check the data type, it should be a list\n",
    "skills_value = student['skills']\n",
    "print(f'Skills value: {skills_value}, Type: {type(skills_value)}')"
   ]
  },
  {
   "cell_type": "code",
   "execution_count": 5,
   "id": "e4aaae24",
   "metadata": {},
   "outputs": [],
   "source": [
    "# Task 6: Modify the skills values by adding one or two skills\n",
    "student['skills'].extend(['React', 'Node.js'])"
   ]
  },
  {
   "cell_type": "code",
   "execution_count": 6,
   "id": "faf8c57b",
   "metadata": {},
   "outputs": [
    {
     "name": "stdout",
     "output_type": "stream",
     "text": [
      "Dictionary keys: ['first_name', 'last_name', 'gender', 'age', 'marital_status', 'skills', 'country', 'city', 'address']\n"
     ]
    }
   ],
   "source": [
    "# Task 7: Get the dictionary keys as a list\n",
    "keys_list = list(student.keys())\n",
    "print(f'Dictionary keys: {keys_list}')"
   ]
  },
  {
   "cell_type": "code",
   "execution_count": 7,
   "id": "88c2187c",
   "metadata": {},
   "outputs": [
    {
     "name": "stdout",
     "output_type": "stream",
     "text": [
      "Dictionary values: ['John', 'Doe', 'Male', 20, 'Single', ['Python', 'JavaScript', 'React', 'Node.js'], 'USA', 'New York', '123 Main Street']\n"
     ]
    }
   ],
   "source": [
    "# Task 8: Get the dictionary values as a list\n",
    "values_list = list(student.values())\n",
    "print(f'Dictionary values: {values_list}')"
   ]
  },
  {
   "cell_type": "code",
   "execution_count": 8,
   "id": "9152592f",
   "metadata": {},
   "outputs": [
    {
     "name": "stdout",
     "output_type": "stream",
     "text": [
      "Dictionary items as list of tuples: [('first_name', 'John'), ('last_name', 'Doe'), ('gender', 'Male'), ('age', 20), ('marital_status', 'Single'), ('skills', ['Python', 'JavaScript', 'React', 'Node.js']), ('country', 'USA'), ('city', 'New York'), ('address', '123 Main Street')]\n"
     ]
    }
   ],
   "source": [
    "# Task 9: Change the dictionary to a list of tuples using items() method\n",
    "items_list = list(student.items())\n",
    "print(f'Dictionary items as list of tuples: {items_list}')"
   ]
  },
  {
   "cell_type": "code",
   "execution_count": 9,
   "id": "0d5503b6",
   "metadata": {},
   "outputs": [],
   "source": [
    "# Task 10: Delete one of the items in the dictionary\n",
    "del student['marital_status']"
   ]
  },
  {
   "cell_type": "code",
   "execution_count": 10,
   "id": "761a4920",
   "metadata": {},
   "outputs": [
    {
     "data": {
      "text/plain": [
       "{'first_name': 'John',\n",
       " 'last_name': 'Doe',\n",
       " 'gender': 'Male',\n",
       " 'age': 20,\n",
       " 'skills': ['Python', 'JavaScript', 'React', 'Node.js'],\n",
       " 'country': 'USA',\n",
       " 'city': 'New York',\n",
       " 'address': '123 Main Street'}"
      ]
     },
     "execution_count": 10,
     "metadata": {},
     "output_type": "execute_result"
    }
   ],
   "source": [
    "student"
   ]
  },
  {
   "cell_type": "code",
   "execution_count": 11,
   "id": "d9953e23",
   "metadata": {},
   "outputs": [],
   "source": [
    "# Task 11: Delete one of the dictionaries\n",
    "del dog"
   ]
  }
 ],
 "metadata": {
  "kernelspec": {
   "display_name": "Python 3 (ipykernel)",
   "language": "python",
   "name": "python3"
  },
  "language_info": {
   "codemirror_mode": {
    "name": "ipython",
    "version": 3
   },
   "file_extension": ".py",
   "mimetype": "text/x-python",
   "name": "python",
   "nbconvert_exporter": "python",
   "pygments_lexer": "ipython3",
   "version": "3.11.3"
  }
 },
 "nbformat": 4,
 "nbformat_minor": 5
}
