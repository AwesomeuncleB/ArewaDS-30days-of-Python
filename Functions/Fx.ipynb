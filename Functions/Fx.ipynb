{
  "nbformat": 4,
  "nbformat_minor": 0,
  "metadata": {
    "colab": {
      "provenance": [],
      "toc_visible": true
    },
    "kernelspec": {
      "name": "python3",
      "display_name": "Python 3"
    },
    "language_info": {
      "name": "python"
    }
  },
  "cells": [
    {
      "cell_type": "code",
      "execution_count": 1,
      "metadata": {
        "colab": {
          "base_uri": "https://localhost:8080/"
        },
        "id": "nWuGuldbvmwi",
        "outputId": "d90687ed-6eaa-4b21-f23d-c94144f1494b"
      },
      "outputs": [
        {
          "output_type": "stream",
          "name": "stdout",
          "text": [
            "In this chapter, we are learning about Python functions.\n",
            "One of my favorite books is Alice in Wonderland.\n"
          ]
        }
      ],
      "source": [
        "def display_message():\n",
        "    print(\"In this chapter, we are learning about Python functions.\")\n",
        "\n",
        "def favorite_book(title):\n",
        "    print(f\"One of my favorite books is {title}.\")\n",
        "\n",
        "display_message()\n",
        "favorite_book(\"Alice in Wonderland\")\n"
      ]
    },
    {
      "cell_type": "code",
      "source": [
        "# Shirt\n",
        "def make_shirt(size, message):\n",
        "    print(f\"Making a {size}-sized shirt with the message: {message}.\")\n",
        "\n",
        "make_shirt(\"medium\", \"Hello, World!\")\n",
        "\n",
        "make_shirt(size=\"small\", message=\"Python is awesome!\")"
      ],
      "metadata": {
        "colab": {
          "base_uri": "https://localhost:8080/"
        },
        "id": "YwM0fxyVvzYl",
        "outputId": "dbf3adb8-fd26-4c28-b838-a2b88771f0da"
      },
      "execution_count": 2,
      "outputs": [
        {
          "output_type": "stream",
          "name": "stdout",
          "text": [
            "Making a medium-sized shirt with the message: Hello, World!.\n",
            "Making a small-sized shirt with the message: Python is awesome!.\n"
          ]
        }
      ]
    },
    {
      "cell_type": "code",
      "source": [
        "def make_large_shirt(message=\"/ Love Python\"):\n",
        "    print(f\"Making a large-sized shirt with the message: {message}.\")\n",
        "\n",
        "make_large_shirt()\n",
        "\n",
        "make_large_shirt(message=\"/ Love Python\", size= \"medium\")\n",
        "\n",
        "make_large_shirt(message=\"Keep Coding\", size=\"small\")\n"
      ],
      "metadata": {
        "colab": {
          "base_uri": "https://localhost:8080/",
          "height": 263
        },
        "id": "0r4Z2WO4wOqr",
        "outputId": "01e47c0f-03d4-447f-df4f-25a26f3a69d8"
      },
      "execution_count": 4,
      "outputs": [
        {
          "output_type": "stream",
          "name": "stdout",
          "text": [
            "Making a large-sized shirt with the message: / Love Python.\n"
          ]
        },
        {
          "output_type": "error",
          "ename": "TypeError",
          "evalue": "make_large_shirt() got an unexpected keyword argument 'size'",
          "traceback": [
            "\u001b[0;31m---------------------------------------------------------------------------\u001b[0m",
            "\u001b[0;31mTypeError\u001b[0m                                 Traceback (most recent call last)",
            "\u001b[0;32m<ipython-input-4-000d65922e52>\u001b[0m in \u001b[0;36m<cell line: 6>\u001b[0;34m()\u001b[0m\n\u001b[1;32m      4\u001b[0m \u001b[0mmake_large_shirt\u001b[0m\u001b[0;34m(\u001b[0m\u001b[0;34m)\u001b[0m\u001b[0;34m\u001b[0m\u001b[0;34m\u001b[0m\u001b[0m\n\u001b[1;32m      5\u001b[0m \u001b[0;34m\u001b[0m\u001b[0m\n\u001b[0;32m----> 6\u001b[0;31m \u001b[0mmake_large_shirt\u001b[0m\u001b[0;34m(\u001b[0m\u001b[0mmessage\u001b[0m\u001b[0;34m=\u001b[0m\u001b[0;34m\"/ Love Python\"\u001b[0m\u001b[0;34m,\u001b[0m \u001b[0msize\u001b[0m\u001b[0;34m=\u001b[0m \u001b[0;34m\"medium\"\u001b[0m\u001b[0;34m)\u001b[0m\u001b[0;34m\u001b[0m\u001b[0;34m\u001b[0m\u001b[0m\n\u001b[0m\u001b[1;32m      7\u001b[0m \u001b[0;34m\u001b[0m\u001b[0m\n\u001b[1;32m      8\u001b[0m \u001b[0mmake_large_shirt\u001b[0m\u001b[0;34m(\u001b[0m\u001b[0mmessage\u001b[0m\u001b[0;34m=\u001b[0m\u001b[0;34m\"Keep Coding\"\u001b[0m\u001b[0;34m,\u001b[0m \u001b[0msize\u001b[0m\u001b[0;34m=\u001b[0m\u001b[0;34m\"small\"\u001b[0m\u001b[0;34m)\u001b[0m\u001b[0;34m\u001b[0m\u001b[0;34m\u001b[0m\u001b[0m\n",
            "\u001b[0;31mTypeError\u001b[0m: make_large_shirt() got an unexpected keyword argument 'size'"
          ]
        }
      ]
    },
    {
      "cell_type": "code",
      "source": [
        "def describe_city(city, country=\"default country\"):\n",
        "    print(f\"{city} is in {country}.\")\n",
        "\n",
        "describe_city(\"Reykjavik\", \"Iceland\")\n",
        "describe_city(\"New York\")\n",
        "describe_city(\"Tokyo\", \"Japan\")"
      ],
      "metadata": {
        "colab": {
          "base_uri": "https://localhost:8080/"
        },
        "id": "hRx3x2HmwY5r",
        "outputId": "94a77973-8a88-4757-b2b8-4010f09c1d1a"
      },
      "execution_count": 5,
      "outputs": [
        {
          "output_type": "stream",
          "name": "stdout",
          "text": [
            "Reykjavik is in Iceland.\n",
            "New York is in default country.\n",
            "Tokyo is in Japan.\n"
          ]
        }
      ]
    },
    {
      "cell_type": "code",
      "source": [
        "# City Names\n",
        "def city_country(city, country):\n",
        "    return f\"{city}, {country}\"\n",
        "\n",
        "print(city_country(\"Santiago\", \"Chile\"))\n",
        "print(city_country(\"Tokyo\", \"Japan\"))\n",
        "print(city_country(\"Paris\", \"France\"))"
      ],
      "metadata": {
        "colab": {
          "base_uri": "https://localhost:8080/"
        },
        "id": "RGGoD4L7w0yy",
        "outputId": "6993efa0-009c-4397-c9ae-79b39bf4fc05"
      },
      "execution_count": 6,
      "outputs": [
        {
          "output_type": "stream",
          "name": "stdout",
          "text": [
            "Santiago, Chile\n",
            "Tokyo, Japan\n",
            "Paris, France\n"
          ]
        }
      ]
    },
    {
      "cell_type": "code",
      "source": [
        "# Album\n",
        "def make_album(artist, title, songs=None):\n",
        "    album_info = {\"artist\": artist, \"title\": title}\n",
        "    if songs is not None:\n",
        "        album_info[\"songs\"] = songs\n",
        "    return album_info\n",
        "\n",
        "album1 = make_album(\"Ed Sheeran\", \"Divide\", 12)\n",
        "album2 = make_album(\"Taylor Swift\", \"1989\", 16)\n",
        "album3 = make_album(\"Beyoncé\", \"Lemonade\")\n",
        "\n",
        "print(album1)\n",
        "print(album2)\n",
        "print(album3)"
      ],
      "metadata": {
        "colab": {
          "base_uri": "https://localhost:8080/"
        },
        "id": "jVVJkYKWw-U3",
        "outputId": "eef04735-b748-4079-bb89-97a78bfc0917"
      },
      "execution_count": 7,
      "outputs": [
        {
          "output_type": "stream",
          "name": "stdout",
          "text": [
            "{'artist': 'Ed Sheeran', 'title': 'Divide', 'songs': 12}\n",
            "{'artist': 'Taylor Swift', 'title': '1989', 'songs': 16}\n",
            "{'artist': 'Beyoncé', 'title': 'Lemonade'}\n"
          ]
        }
      ]
    },
    {
      "cell_type": "code",
      "source": [
        "# User Albums\n",
        "def user_albums():\n",
        "    while True:\n",
        "        artist = input(\"Enter the artist's name (type 'quit' to exit): \")\n",
        "        if artist.lower() == 'quit':\n",
        "            break\n",
        "        title = input(\"Enter the album's title: \")\n",
        "        number_of_songs = input(\"Enter the number of songs (press Enter for none): \")\n",
        "\n",
        "        if number_of_songs:\n",
        "            number_of_songs = int(number_of_songs)\n",
        "\n",
        "        album_dict = make_album(artist, title, number_of_songs)\n",
        "        print(album_dict)\n",
        "\n",
        "user_albums()\n"
      ],
      "metadata": {
        "colab": {
          "base_uri": "https://localhost:8080/"
        },
        "id": "wgJZpRg8xIhd",
        "outputId": "4860dd3b-294d-4365-b08e-846cb4fadc68"
      },
      "execution_count": 9,
      "outputs": [
        {
          "name": "stdout",
          "output_type": "stream",
          "text": [
            "Enter the artist's name (type 'quit' to exit): quit\n"
          ]
        }
      ]
    },
    {
      "cell_type": "code",
      "source": [
        "# Messages\n",
        "def print_messages(messages):\n",
        "    for message in messages:\n",
        "        print(message)\n",
        "\n",
        "text_messages = [\n",
        "    \"Hello!\",\n",
        "    \"How are you?\",\n",
        "    \"Python is fun!\",\n",
        "    \"Coding is exciting!\"\n",
        "]\n",
        "\n",
        "print_messages(text_messages)\n"
      ],
      "metadata": {
        "colab": {
          "base_uri": "https://localhost:8080/"
        },
        "id": "M6aRGFR3xior",
        "outputId": "504d4b46-3f7b-4673-8022-b3a7e9d645dd"
      },
      "execution_count": 10,
      "outputs": [
        {
          "output_type": "stream",
          "name": "stdout",
          "text": [
            "Hello!\n",
            "How are you?\n",
            "Python is fun!\n",
            "Coding is exciting!\n"
          ]
        }
      ]
    },
    {
      "cell_type": "code",
      "source": [
        "# Sending Messages\n",
        "def send_messages(messages, sent_messages):\n",
        "    while messages:\n",
        "        current_message = messages.pop(0)\n",
        "        print(current_message)\n",
        "        sent_messages.append(current_message)\n",
        "\n",
        "# Creating a new list for sent messages\n",
        "sent_messages = []\n",
        "\n",
        "# Calling the function to send and move messages\n",
        "send_messages(text_messages[:], sent_messages)\n",
        "\n",
        "# Printing both lists to verify the messages were moved correctly\n",
        "print(\"Original messages:\", text_messages)\n",
        "print(\"Sent messages:\", sent_messages)\n",
        "\n"
      ],
      "metadata": {
        "colab": {
          "base_uri": "https://localhost:8080/"
        },
        "id": "HEgRTatUx8RO",
        "outputId": "46f1fd67-5d4f-4632-c6c0-eec677be9c0f"
      },
      "execution_count": 11,
      "outputs": [
        {
          "output_type": "stream",
          "name": "stdout",
          "text": [
            "Hello!\n",
            "How are you?\n",
            "Python is fun!\n",
            "Coding is exciting!\n",
            "Original messages: ['Hello!', 'How are you?', 'Python is fun!', 'Coding is exciting!']\n",
            "Sent messages: ['Hello!', 'How are you?', 'Python is fun!', 'Coding is exciting!']\n"
          ]
        }
      ]
    },
    {
      "cell_type": "code",
      "source": [
        "# Archived Messages\n",
        "def archive_messages(messages, archived_messages):\n",
        "    archived_messages.extend(messages)\n",
        "\n",
        "archived_messages = []\n",
        "\n",
        "archive_messages(sent_messages[:], archived_messages)\n",
        "\n",
        "print(\"Sent messages:\", sent_messages)\n",
        "print(\"Archived messages:\", archived_messages)\n"
      ],
      "metadata": {
        "colab": {
          "base_uri": "https://localhost:8080/"
        },
        "id": "UPWVeCWGyD8D",
        "outputId": "64d06a34-d1f2-4067-e43c-299928f7b215"
      },
      "execution_count": 12,
      "outputs": [
        {
          "output_type": "stream",
          "name": "stdout",
          "text": [
            "Sent messages: ['Hello!', 'How are you?', 'Python is fun!', 'Coding is exciting!']\n",
            "Archived messages: ['Hello!', 'How are you?', 'Python is fun!', 'Coding is exciting!']\n"
          ]
        }
      ]
    },
    {
      "cell_type": "code",
      "source": [
        "# Sandwiches\n",
        "def make_sandwich(*ingredients):\n",
        "    print(\"Making a sandwich with the following ingredients:\")\n",
        "    for ingredient in ingredients:\n",
        "        print(f\"- {ingredient}\")\n",
        "\n",
        "make_sandwich(\"Ham\", \"Cheese\", \"Lettuce\")\n",
        "make_sandwich(\"Turkey\", \"Swiss\")\n",
        "make_sandwich(\"Peanut Butter\", \"Jelly\")\n",
        "\n"
      ],
      "metadata": {
        "colab": {
          "base_uri": "https://localhost:8080/"
        },
        "id": "82XHttLFyMBW",
        "outputId": "938a503e-d201-4a55-c029-92a397512206"
      },
      "execution_count": 13,
      "outputs": [
        {
          "output_type": "stream",
          "name": "stdout",
          "text": [
            "Making a sandwich with the following ingredients:\n",
            "- Ham\n",
            "- Cheese\n",
            "- Lettuce\n",
            "Making a sandwich with the following ingredients:\n",
            "- Turkey\n",
            "- Swiss\n",
            "Making a sandwich with the following ingredients:\n",
            "- Peanut Butter\n",
            "- Jelly\n"
          ]
        }
      ]
    },
    {
      "cell_type": "code",
      "source": [
        "# User Profile\n",
        "def build_profile(first_name, last_name, **additional_info):\n",
        "    profile = {\"first_name\": first_name, \"last_name\": last_name}\n",
        "    profile.update(additional_info)\n",
        "    return profile\n",
        "\n",
        "my_profile = build_profile(\"John\", \"Doe\", age=25, occupation=\"Software Engineer\", hobby=\"Reading\")\n",
        "\n",
        "print(my_profile)\n",
        "\n"
      ],
      "metadata": {
        "colab": {
          "base_uri": "https://localhost:8080/"
        },
        "id": "k39VhXv1ydPX",
        "outputId": "b321228b-becc-4fd2-d81f-bfad83b60792"
      },
      "execution_count": 14,
      "outputs": [
        {
          "output_type": "stream",
          "name": "stdout",
          "text": [
            "{'first_name': 'John', 'last_name': 'Doe', 'age': 25, 'occupation': 'Software Engineer', 'hobby': 'Reading'}\n"
          ]
        }
      ]
    },
    {
      "cell_type": "code",
      "source": [
        "# Cars\n",
        "def car_info(manufacturer, model, **car_details):\n",
        "    car_dict = {\"manufacturer\": manufacturer, \"model\": model}\n",
        "    car_dict.update(car_details)\n",
        "    return car_dict\n",
        "\n",
        "car_info1 = car_info(\"Toyota\", \"Camry\", color=\"Blue\", package=\"Tech Package\")\n",
        "car_info2 = car_info(\"Ford\", \"Mustang\", color=\"Red\", convertible=True)\n",
        "\n",
        "print(car_info1)\n",
        "print(car_info2)"
      ],
      "metadata": {
        "colab": {
          "base_uri": "https://localhost:8080/"
        },
        "id": "ylDOepIFymIF",
        "outputId": "b5afa82e-833a-4da0-c26f-04fc5167425e"
      },
      "execution_count": 15,
      "outputs": [
        {
          "output_type": "stream",
          "name": "stdout",
          "text": [
            "{'manufacturer': 'Toyota', 'model': 'Camry', 'color': 'Blue', 'package': 'Tech Package'}\n",
            "{'manufacturer': 'Ford', 'model': 'Mustang', 'color': 'Red', 'convertible': True}\n"
          ]
        }
      ]
    },
    {
      "cell_type": "code",
      "source": [
        "# printing_functions.py\n",
        "\n",
        "def print_message(message):\n",
        "    print(message)\n",
        "\n",
        "def print_summary(items):\n",
        "    for item in items:\n",
        "        print(item)\n"
      ],
      "metadata": {
        "id": "J2vcLmqSyrRx"
      },
      "execution_count": 16,
      "outputs": []
    },
    {
      "cell_type": "code",
      "source": [
        "# printing_models.py\n",
        "from printing_functions import print_message, print_summary\n",
        "\n",
        "print_message(\"Hello, this is a message.\")\n",
        "items = [\"Item 1\", \"Item 2\", \"Item 3\"]\n",
        "print_summary(items)\n"
      ],
      "metadata": {
        "id": "GP5cA0_H1FMU"
      },
      "execution_count": 17,
      "outputs": []
    },
    {
      "cell_type": "code",
      "source": [
        "def print_message(message):\n",
        "    print(message)\n",
        "\n",
        "def print_summary(items):\n",
        "    for item in items:\n",
        "        print(item)\n"
      ],
      "metadata": {
        "id": "mtVuDwMt1TzE"
      },
      "execution_count": null,
      "outputs": []
    }
  ]
}