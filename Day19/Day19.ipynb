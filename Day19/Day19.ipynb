{
 "cells": [
  {
   "cell_type": "code",
   "execution_count": null,
   "id": "6ce3ca1a",
   "metadata": {},
   "outputs": [],
   "source": [
    "#1\n",
    "import re\n",
    "def count_words_lines(file):\n",
    "    '''Counts the number of lines and words in a file'''\n",
    "    with open(file) as f:\n",
    "        lines = f.readlines()\n",
    "        words = []\n",
    "        for line in lines:\n",
    "            # removing all characters that are not alphanumeric using regex\n",
    "            line = re.sub(r'[^\\w\\s]','',line)\n",
    "            words.extend(line.split())\n",
    "    print(f'Number of lines: {len(lines)} and Number of words: {len(words)}')\n",
    "\n",
    "\n",
    "count_words_lines('obama.txt')\n",
    "count_words_lines('donald.txt')\n",
    "count_words_lines('michelle.txt')\n",
    "count_words_lines('melania.txt')"
   ]
  },
  {
   "cell_type": "code",
   "execution_count": null,
   "id": "254b5c32",
   "metadata": {},
   "outputs": [],
   "source": [
    "import re\n",
    "def count_words_lines(file):\n",
    "    '''Counts the number of lines and words in a file'''\n",
    "    with open(file) as f:\n",
    "        lines = f.readlines()\n",
    "        words = []\n",
    "        for line in lines:\n",
    "            # removing all characters that are not alphanumeric using regex\n",
    "            line = re.sub(r'[^\\w\\s]','',line)\n",
    "            words.extend(line.split())\n",
    "    print(f'Number of  lines: {len(lines)} and Number of  words: {len(words)}')\n",
    "\n",
    "\n",
    "count_words_lines('obama_speech.txt')\n",
    "count_words_lines('donald_speech.txt')\n",
    "count_words_lines('michelle_obama_speech.txt')\n",
    "count_words_lines('melania_trump_speech.txt')"
   ]
  },
  {
   "cell_type": "code",
   "execution_count": null,
   "id": "ea67907d",
   "metadata": {},
   "outputs": [],
   "source": [
    "def most_spoken_languages(files,c):\n",
    "    '''\n",
    "    Takes a filepath and an integer,n as arguments and returns the n most spoken languages in the world\n",
    "    '''\n",
    "    with open(file_n) as fl:\n",
    "        list = json.loads(fl.read())\n",
    "    # looping to get dict of languages\n",
    "    languages = []\n",
    "    for i in range(len(list)):\n",
    "        languages.extend(list[i]['languages'])\n",
    "    lang = {}\n",
    "    for language in languages:\n",
    "        lang[language] = lang.get(language,0) + 1\n",
    "    # sorting the list of the tuples to get the most spoken languages\n",
    "    sorted_lang = sorted(lang.items(), key= lambda x:x[1],reverse=True) # contains the languages arranged based on values\n",
    "    result = [(item[1],item[0]) for item in sorted_lang]\n",
    "    return result[:v]\n",
    "most_spoken_languages('ountries_data.json',10)"
   ]
  },
  {
   "cell_type": "code",
   "execution_count": null,
   "id": "8b22a118",
   "metadata": {},
   "outputs": [],
   "source": [
    "import re\n",
    "import json\n",
    "import csv\n",
    "def count_words_lines(file):\n",
    "    '''Counts the number of lines and words in a file'''\n",
    "    with open(file) as f:\n",
    "        lines = f.readlines()\n",
    "        words = []\n",
    "        for line in lines:\n",
    "            # removing all characters that are not alphanumeric using regex\n",
    "            line = re.sub(r'[^\\w\\s]','',line)\n",
    "            words.extend(line.split())\n",
    "    print(f'Number of  lines: {len(lines)} and Number of  words: {len(words)}')\n",
    "\n",
    "\n",
    "count_words_lines('obama_speech.txt')\n",
    "count_words_lines('donald_speech.txt')\n",
    "count_words_lines('michelle_obama_speech.txt')\n",
    "count_words_lines('melania_trump_speech.txt')"
   ]
  },
  {
   "cell_type": "code",
   "execution_count": null,
   "id": "1f2940af",
   "metadata": {},
   "outputs": [],
   "source": [
    "# Exercise num2\n",
    "def most_spoken_languages(file_b,b):\n",
    "    '''\n",
    "    Takes a filepath and an integer,n as arguments and returns the n most spoken languages in the world\n",
    "    '''\n",
    "    with open(file_b) as fb:\n",
    "        list = json.loads(fb.read())\n",
    "    # looping to get dictionary \n",
    "    languages = []\n",
    "    for i in range(len(list)):\n",
    "        languages.extend(list[i]['languages'])\n",
    "    lang = {}\n",
    "    for language in languages:\n",
    "        lang[language] = lang.get(language,0) + 1\n",
    "    # sorting the list\n",
    "    sorted_lang = sorted(lang.items(), key= lambda x:x[1],reverse=True)\n",
    "    result = [(item[1],item[0]) for item in sorted_lang]\n",
    "    return result[:b]\n",
    "most_spoken_languages('countries_data.json',10)\n",
    "reslt = most_spoken_languages('countries_data.json',3)\n",
    "print('\\n', reslt,'\\n')"
   ]
  },
  {
   "cell_type": "code",
   "execution_count": null,
   "id": "b797dabb",
   "metadata": {},
   "outputs": [],
   "source": [
    "# Exercise num3\n",
    "def most_populated_countries(filename,n):\n",
    "    '''\n",
    "    Takes a file path and an integer,n as arguments and returns the n most populated countries in the world\n",
    "    '''\n",
    "    with open(filename) as f:\n",
    "        dic_list = json.loads(f.read())\n",
    "    population = dict()\n",
    "    for i in range(len(dic_list)):\n",
    "        keys = dic_list[i]['name']\n",
    "        values = dic_list[i]['population']\n",
    "        population[keys] = values\n",
    "    # sorting by values of the population\n",
    "    sorted_lt = sorted(population.items(), key= lambda x:x[1],reverse=True)\n",
    "    final_list = [{'country':item[0],'population':item[1]} for item in sorted_lt]\n",
    "    return final_list[:n]\n",
    "\n",
    "most_populated_countries('countries_data.json',10)"
   ]
  },
  {
   "cell_type": "code",
   "execution_count": null,
   "id": "6d62bd8a",
   "metadata": {},
   "outputs": [],
   "source": [
    "# exercise num1\n",
    "with open('email_exchanges_big.txt') as f:\n",
    "    lines = f.readlines()\n",
    "email_addresses = []\n",
    "for line in lines:\n",
    "    #using regex to get alphanumeric characters before and after and @ symbol. \\S is non-whitespace characters\n",
    "    email_addresses.extend(re.findall('[a-zA-Z0-9]\\S*@\\S*[a-zA-Z]', line))\n",
    "email_addresses[:]"
   ]
  },
  {
   "cell_type": "code",
   "execution_count": null,
   "id": "3dfe5e3a",
   "metadata": {},
   "outputs": [],
   "source": [
    "# Exercise num2\n",
    "def find_most_common_words(file,n=10):\n",
    "    '''\n",
    "    Returns a list of tuples showing the count of the n most common words in the document, file\n",
    "    '''\n",
    "    with open(file) as f:\n",
    "        lines = f.readlines()\n",
    "    words = []\n",
    "    for line in lines:\n",
    "        # removing all characters that are not whitespace or alphanumeric using regex\n",
    "        line = re.sub(r'[^\\w\\s]','',line)\n",
    "        words.extend(line.split())\n",
    "    words_dict = {}\n",
    "    for word in words:\n",
    "        words_dict[word] = words_dict.get(word,0) + 1\n",
    "    words_sorted = sorted(words_dict.items(),key=lambda x:x[1],reverse=True)\n",
    "    result = [(word[1],word[0]) for word in words_sorted]\n",
    "    return result[:n]\n",
    "\n",
    "find_most_common_words('donald_speech.txt',5)"
   ]
  },
  {
   "cell_type": "code",
   "execution_count": null,
   "id": "03c8468a",
   "metadata": {},
   "outputs": [],
   "source": [
    "# Exercise num3\n",
    "# The ten most frequent words used in Obama's speech\n",
    "print('Obama: ',find_most_common_words('obama_speech.txt')) \n",
    "# The ten most frequent words used in Michelle's speech \n",
    "print('Michelle Obama: ',find_most_common_words('michelle_obama_speech.txt'))\n",
    "# The ten most frequent words used in Trump's speech \n",
    "print('Donald Trump: ',find_most_common_words('donald_speech.txt'))\n",
    "# The ten most frequent words used in Melina's speech\n",
    "print('Melania Trump: ',find_most_common_words('melania_trump_speech.txt'))"
   ]
  },
  {
   "cell_type": "code",
   "execution_count": null,
   "id": "f40d660e",
   "metadata": {},
   "outputs": [],
   "source": [
    "# Exercise num4\n",
    "def clean_text(file):\n",
    "    '''\n",
    "    Returns all the words in a text after removing the punctuations and others\n",
    "    '''\n",
    "    with open(file) as f:\n",
    "        lines = f.readlines()\n",
    "        words = []\n",
    "        for line in lines:\n",
    "            # removing all characters that are not whitespace or alphanumeric using regex\n",
    "            line = re.sub(r'[^\\w\\s]','',line)\n",
    "            words.extend(line.split())\n",
    "    return words\n",
    "clean_text('michelle_obama_speech.txt')"
   ]
  },
  {
   "cell_type": "code",
   "execution_count": null,
   "id": "2c9f663a",
   "metadata": {},
   "outputs": [],
   "source": [
    "# importing stop_words list from stop_words.py\n",
    "from stop_words import stop_words\n",
    "\n",
    "def remove_stop_words(list):\n",
    "    return [word for word in list if word.lower() not in stop_words]\n",
    "remove_stop_words(clean_text('michelle_obama_speech.txt'))"
   ]
  },
  {
   "cell_type": "code",
   "execution_count": null,
   "id": "a3efbcda",
   "metadata": {},
   "outputs": [],
   "source": [
    "def check_text_similarity(list_one,list_two):\n",
    "    res = [x for x in (list_one + list_two) if x in list_one and x in list_two]\n",
    "    similar_words_percent = (len(res)/(len(list_one) + len(list_two))) * 100\n",
    "    return similar_words_percent\n",
    "check_text_similarity(['apple','banana','mango','pawpaw'],['apple','mango','pear'])"
   ]
  },
  {
   "cell_type": "code",
   "execution_count": null,
   "id": "011a529a",
   "metadata": {},
   "outputs": [],
   "source": [
    "# combining the function for a big one: biggest I have tried so far:\n",
    "def comparing_text_in_file_similarity(file_one,file_two):\n",
    "    file_one_words = remove_stop_words(clean_text(file_one))\n",
    "    file_two_words = remove_stop_words(clean_text(file_two))\n",
    "    return check_text_similarity(file_one_words,file_two_words)\n",
    "\n",
    "comparing_text_in_file_similarity('michelle_obama_speech.txt','melania_trump_speech.txt')"
   ]
  },
  {
   "cell_type": "code",
   "execution_count": null,
   "id": "dbd95c1f",
   "metadata": {},
   "outputs": [],
   "source": [
    "# Exercise num5\n",
    "print('10 most common words in romeo and juliet: ',find_most_common_words('romeo_and_juliet.txt'))"
   ]
  },
  {
   "cell_type": "code",
   "execution_count": null,
   "id": "33bb5b82",
   "metadata": {},
   "outputs": [],
   "source": [
    "with open('hacker_news.csv',newline='') as f:\n",
    "    csv_reader = csv.reader(f,delimiter=',')\n",
    "    python_rows = 0\n",
    "    javascript_rows = 0\n",
    "    java_rows = 0\n",
    "    for row in csv_reader:\n",
    "        for i in range(len(row)):\n",
    "            if re.findall(r'[Pp]ython',row[i]):\n",
    "                python_rows += 1\n",
    "            elif re.findall(r'[Jj]ava[Ss]cript',row[i]):\n",
    "                javascript_rows +=1\n",
    "            elif re.findall(r'Java$',row[i]):\n",
    "                java_rows +=1\n",
    "print(f'the number of lines containing a,b and c respectively are: {python_rows}, {javascript_rows} and {java_rows}')\n"
   ]
  },
  {
   "cell_type": "code",
   "execution_count": null,
   "id": "357fff37",
   "metadata": {},
   "outputs": [],
   "source": [
    "from collections import Counter\n",
    "with open('donald_speech.txt') as f:\n",
    "    lines = f.readlines()\n",
    "    words = []\n",
    "    for line in lines:\n",
    "        # removing all characters that are not whitespace or alphanumeric using regex, don't want punctuation affecting count\n",
    "        line = re.sub(r'[^\\w\\s]','',line)\n",
    "        words.extend(line.split())\n",
    "Count = Counter(words)\n",
    "Count.most_common(5)"
   ]
  }
 ],
 "metadata": {
  "kernelspec": {
   "display_name": "Python 3 (ipykernel)",
   "language": "python",
   "name": "python3"
  },
  "language_info": {
   "codemirror_mode": {
    "name": "ipython",
    "version": 3
   },
   "file_extension": ".py",
   "mimetype": "text/x-python",
   "name": "python",
   "nbconvert_exporter": "python",
   "pygments_lexer": "ipython3",
   "version": "3.11.3"
  }
 },
 "nbformat": 4,
 "nbformat_minor": 5
}
