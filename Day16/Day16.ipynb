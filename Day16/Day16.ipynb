{
 "cells": [
  {
   "cell_type": "code",
   "execution_count": 9,
   "id": "bd759196",
   "metadata": {},
   "outputs": [],
   "source": [
    "from datetime import datetime, timedelta\n",
    "\n",
    "# Get current day, month, year, hour, minute, and timestamp\n",
    "current_datetime = datetime.now()\n",
    "current_day = current_datetime.day\n",
    "current_month = current_datetime.month\n",
    "current_year = current_datetime.year\n",
    "current_hour = current_datetime.hour\n",
    "current_minute = current_datetime.minute\n",
    "current_timestamp = current_datetime.timestamp()"
   ]
  },
  {
   "cell_type": "code",
   "execution_count": 10,
   "id": "d0c4f2c1",
   "metadata": {},
   "outputs": [
    {
     "name": "stdout",
     "output_type": "stream",
     "text": [
      "Current day: 30\n",
      "Current month: 12\n",
      "Current year: 2023\n",
      "Current hour: 20\n",
      "Current minute: 31\n",
      "Current timestamp: 1703964702.944328\n"
     ]
    }
   ],
   "source": [
    "print(\"Current day:\", current_day)\n",
    "print(\"Current month:\", current_month)\n",
    "print(\"Current year:\", current_year)\n",
    "print(\"Current hour:\", current_hour)\n",
    "print(\"Current minute:\", current_minute)\n",
    "print(\"Current timestamp:\", current_timestamp)"
   ]
  },
  {
   "cell_type": "code",
   "execution_count": 11,
   "id": "a01d6517",
   "metadata": {},
   "outputs": [
    {
     "name": "stdout",
     "output_type": "stream",
     "text": [
      "\n",
      "Formatted current date: 12/30/2023, 20:31:42\n"
     ]
    }
   ],
   "source": [
    "# Format the current date\n",
    "formatted_date = current_datetime.strftime(\"%m/%d/%Y, %H:%M:%S\")\n",
    "print(\"\\nFormatted current date:\", formatted_date)"
   ]
  },
  {
   "cell_type": "code",
   "execution_count": 12,
   "id": "432b9844",
   "metadata": {},
   "outputs": [
    {
     "name": "stdout",
     "output_type": "stream",
     "text": [
      "\n",
      "Converted time from string: 2019-12-05 00:00:00\n"
     ]
    }
   ],
   "source": [
    "# Convert a time string to time\n",
    "time_string = \"5 December, 2019\"\n",
    "converted_time = datetime.strptime(time_string, \"%d %B, %Y\")\n",
    "print(\"\\nConverted time from string:\", converted_time)"
   ]
  },
  {
   "cell_type": "code",
   "execution_count": 13,
   "id": "a91c78b4",
   "metadata": {},
   "outputs": [
    {
     "name": "stdout",
     "output_type": "stream",
     "text": [
      "\n",
      "Time until New Year: 1 day, 3:28:17.055672\n"
     ]
    }
   ],
   "source": [
    "# Calculate the time difference between now and New Year\n",
    "new_year = datetime(current_year + 1, 1, 1, 0, 0, 0)\n",
    "time_until_new_year = new_year - current_datetime\n",
    "print(\"\\nTime until New Year:\", time_until_new_year)"
   ]
  },
  {
   "cell_type": "code",
   "execution_count": 14,
   "id": "5ec891be",
   "metadata": {},
   "outputs": [
    {
     "name": "stdout",
     "output_type": "stream",
     "text": [
      "Time since 1 January 1970: 19721 days, 20:31:42.944328\n"
     ]
    }
   ],
   "source": [
    "# Calculate the time difference between 1 January 1970 and now\n",
    "epoch_time = datetime(1970, 1, 1, 0, 0, 0)\n",
    "time_since_epoch = current_datetime - epoch_time\n",
    "print(\"Time since 1 January 1970:\", time_since_epoch)"
   ]
  }
 ],
 "metadata": {
  "kernelspec": {
   "display_name": "Python 3 (ipykernel)",
   "language": "python",
   "name": "python3"
  },
  "language_info": {
   "codemirror_mode": {
    "name": "ipython",
    "version": 3
   },
   "file_extension": ".py",
   "mimetype": "text/x-python",
   "name": "python",
   "nbconvert_exporter": "python",
   "pygments_lexer": "ipython3",
   "version": "3.11.3"
  }
 },
 "nbformat": 4,
 "nbformat_minor": 5
}
