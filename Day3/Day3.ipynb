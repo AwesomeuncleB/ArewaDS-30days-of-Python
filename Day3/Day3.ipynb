{
 "cells": [
  {
   "cell_type": "code",
   "execution_count": 1,
   "id": "ea1a9062",
   "metadata": {},
   "outputs": [],
   "source": [
    "# Declaring variables\n",
    "age = 25  \n",
    "height = 5.9  \n",
    "complex_num = 3 + 4j"
   ]
  },
  {
   "cell_type": "code",
   "execution_count": 2,
   "id": "748308f3",
   "metadata": {},
   "outputs": [
    {
     "name": "stdout",
     "output_type": "stream",
     "text": [
      "Enter base: 23\n",
      "Enter height: 45\n",
      "The area of the triangle is 517.5\n"
     ]
    }
   ],
   "source": [
    "# Calculating the area of a triangle\n",
    "base = float(input(\"Enter base: \"))\n",
    "height_triangle = float(input(\"Enter height: \"))\n",
    "area_triangle = 0.5 * base * height_triangle\n",
    "print(f\"The area of the triangle is {area_triangle}\")"
   ]
  },
  {
   "cell_type": "code",
   "execution_count": 3,
   "id": "94e61d9c",
   "metadata": {},
   "outputs": [
    {
     "name": "stdout",
     "output_type": "stream",
     "text": [
      "Enter side a: 23\n",
      "Enter side b: 24\n",
      "Enter side c: 25\n",
      "The perimeter of the triangle is 72.0\n"
     ]
    }
   ],
   "source": [
    "# Task 5: Calculating the perimeter of a triangle\n",
    "side_a = float(input(\"Enter side a: \"))\n",
    "side_b = float(input(\"Enter side b: \"))\n",
    "side_c = float(input(\"Enter side c: \"))\n",
    "perimeter_triangle = side_a + side_b + side_c\n",
    "print(f\"The perimeter of the triangle is {perimeter_triangle}\")"
   ]
  },
  {
   "cell_type": "code",
   "execution_count": 4,
   "id": "f9a86b1a",
   "metadata": {},
   "outputs": [
    {
     "name": "stdout",
     "output_type": "stream",
     "text": [
      "Enter length: 134\n",
      "Enter width: 143\n",
      "The area of the rectangle is 19162.0\n",
      "The perimeter of the rectangle is 554.0\n"
     ]
    }
   ],
   "source": [
    "# Task 6: Calculating area and perimeter of a rectangle\n",
    "length = float(input(\"Enter length: \"))\n",
    "width = float(input(\"Enter width: \"))\n",
    "area_rectangle = length * width\n",
    "perimeter_rectangle = 2 * (length + width)\n",
    "print(f\"The area of the rectangle is {area_rectangle}\")\n",
    "print(f\"The perimeter of the rectangle is {perimeter_rectangle}\")"
   ]
  },
  {
   "cell_type": "code",
   "execution_count": 5,
   "id": "58cdb66d",
   "metadata": {},
   "outputs": [
    {
     "name": "stdout",
     "output_type": "stream",
     "text": [
      "Enter radius: 34\n",
      "The area of the circle is 3629.84\n",
      "The circumference of the circle is 213.52\n"
     ]
    }
   ],
   "source": [
    "# Task 7: Calculating area and circumference of a circle\n",
    "radius = float(input(\"Enter radius: \"))\n",
    "pi = 3.14\n",
    "area_circle = pi * radius ** 2\n",
    "circumference_circle = 2 * pi * radius\n",
    "print(f\"The area of the circle is {area_circle}\")\n",
    "print(f\"The circumference of the circle is {circumference_circle}\")"
   ]
  },
  {
   "cell_type": "code",
   "execution_count": 6,
   "id": "cd99a203",
   "metadata": {},
   "outputs": [
    {
     "name": "stdout",
     "output_type": "stream",
     "text": [
      "The calculated slope is 3.0\n"
     ]
    }
   ],
   "source": [
    "# Task 8: Calculating slope, x-intercept, and y-intercept\n",
    "slope = 2\n",
    "x1, y1 = 2, -2\n",
    "x2, y2 = 6, 10\n",
    "slope_calculated = (y2 - y1) / (x2 - x1)\n",
    "print(f\"The calculated slope is {slope_calculated}\")"
   ]
  },
  {
   "cell_type": "code",
   "execution_count": 7,
   "id": "bc127ef8",
   "metadata": {},
   "outputs": [
    {
     "name": "stdout",
     "output_type": "stream",
     "text": [
      "The slope between points is 2.0\n",
      "The Euclidean distance between points is 8.94427190999916\n"
     ]
    }
   ],
   "source": [
    "# Task 9: Calculating slope and Euclidean distance between two points\n",
    "x1, y1 = 2, 2\n",
    "x2, y2 = 6, 10\n",
    "slope_points = (y2 - y1) / (x2 - x1)\n",
    "distance_points = ((x2 - x1)**2 + (y2 - y1)**2)**0.5\n",
    "print(f\"The slope between points is {slope_points}\")\n",
    "print(f\"The Euclidean distance between points is {distance_points}\")"
   ]
  },
  {
   "cell_type": "code",
   "execution_count": 8,
   "id": "bb4b013e",
   "metadata": {},
   "outputs": [
    {
     "name": "stdout",
     "output_type": "stream",
     "text": [
      "The slopes are equal.\n"
     ]
    }
   ],
   "source": [
    "# Task 10: Comparing slopes\n",
    "if slope == slope_points:\n",
    "    print(\"The slopes are equal.\")\n",
    "else:\n",
    "    print(\"The slopes are not equal.\")"
   ]
  },
  {
   "cell_type": "code",
   "execution_count": 9,
   "id": "cdd27b98",
   "metadata": {},
   "outputs": [],
   "source": [
    "# Task 11: Calculate y values\n",
    "def calculate_y(x):\n",
    "    return x**2 + 6*x + 9"
   ]
  },
  {
   "cell_type": "code",
   "execution_count": 10,
   "id": "05cae99b",
   "metadata": {},
   "outputs": [
    {
     "name": "stdout",
     "output_type": "stream",
     "text": [
      "The x values for which y is 0 are: [-3]\n"
     ]
    }
   ],
   "source": [
    "# Task 12: Find x value when y is 0\n",
    "x_values_zero = [x for x in range(-10, 10) if calculate_y(x) == 0]\n",
    "print(f\"The x values for which y is 0 are: {x_values_zero}\")"
   ]
  },
  {
   "cell_type": "code",
   "execution_count": 11,
   "id": "84d009b6",
   "metadata": {},
   "outputs": [
    {
     "name": "stdout",
     "output_type": "stream",
     "text": [
      "The false comparison of string lengths is True\n"
     ]
    }
   ],
   "source": [
    "# Task 13: Falsy comparison of string lengths\n",
    "length_python = len(\"python\")\n",
    "length_dragon = len(\"dragon\")\n",
    "falsy_comparison = length_python == length_dragon\n",
    "print(f\"The false comparison of string lengths is {falsy_comparison}\")"
   ]
  },
  {
   "cell_type": "code",
   "execution_count": 12,
   "id": "a9797eb4",
   "metadata": {},
   "outputs": [
    {
     "name": "stdout",
     "output_type": "stream",
     "text": [
      "Is 'on' found in both 'python' and 'dragon'? True\n"
     ]
    }
   ],
   "source": [
    "# Task 14: Use 'and' operator to check if 'on' is found\n",
    "on_check = 'on' in 'python' and 'on' in 'dragon'\n",
    "print(f\"Is 'on' found in both 'python' and 'dragon'? {on_check}\")"
   ]
  },
  {
   "cell_type": "code",
   "execution_count": 13,
   "id": "fbaac825",
   "metadata": {},
   "outputs": [
    {
     "name": "stdout",
     "output_type": "stream",
     "text": [
      "Is 'jargon' in the sentence? False\n"
     ]
    }
   ],
   "source": [
    "# Task 15: Use 'in' operator to check if 'jargon' is in the sentence\n",
    "sentence = \"There is no 'on' in both dragon and python\"\n",
    "jargon_check = 'jargon' in sentence\n",
    "print(f\"Is 'jargon' in the sentence? {jargon_check}\")"
   ]
  },
  {
   "cell_type": "code",
   "execution_count": 14,
   "id": "3ea5f9f7",
   "metadata": {},
   "outputs": [
    {
     "name": "stdout",
     "output_type": "stream",
     "text": [
      "The length of 'python' as float and then as string is: 6.0\n"
     ]
    }
   ],
   "source": [
    "# Task 16: Convert length of 'python' to float and then to string\n",
    "length_python_float = float(length_python)\n",
    "length_python_str = str(length_python_float)\n",
    "print(f\"The length of 'python' as float and then as string is: {length_python_str}\")"
   ]
  },
  {
   "cell_type": "code",
   "execution_count": 15,
   "id": "9e1ad98c",
   "metadata": {},
   "outputs": [
    {
     "name": "stdout",
     "output_type": "stream",
     "text": [
      "Enter a number: 154\n",
      "Is 154 even? True\n"
     ]
    }
   ],
   "source": [
    "# Task 17: Checking if a number is even\n",
    "num = int(input(\"Enter a number: \"))\n",
    "is_even = num % 2 == 0\n",
    "print(f\"Is {num} even? {is_even}\")"
   ]
  },
  {
   "cell_type": "code",
   "execution_count": 16,
   "id": "86d4e11f",
   "metadata": {},
   "outputs": [
    {
     "name": "stdout",
     "output_type": "stream",
     "text": [
      "Is floor division of 7 by 3 equal to int(2.7)? True\n"
     ]
    }
   ],
   "source": [
    "# Task 18: Checking floor division and int conversion\n",
    "floor_division_check = 7 // 3 == int(2.7)\n",
    "print(f\"Is floor division of 7 by 3 equal to int(2.7)? {floor_division_check}\")"
   ]
  },
  {
   "cell_type": "code",
   "execution_count": 17,
   "id": "a8cfbb21",
   "metadata": {},
   "outputs": [
    {
     "name": "stdout",
     "output_type": "stream",
     "text": [
      "Is the type of '10' equal to the type of 10? False\n"
     ]
    }
   ],
   "source": [
    "# Task 19: Checking type equality\n",
    "type_check = type('10') == type(10)\n",
    "print(f\"Is the type of '10' equal to the type of 10? {type_check}\")"
   ]
  },
  {
   "cell_type": "code",
   "execution_count": 18,
   "id": "172aa09f",
   "metadata": {},
   "outputs": [
    {
     "name": "stdout",
     "output_type": "stream",
     "text": [
      "Is the conversion of '9.8' to int equal to 10? False\n"
     ]
    }
   ],
   "source": [
    "# Task 20: Trying to convert '9.8' to int and check equality with 10\n",
    "conversion_check = float('9.8') == 10\n",
    "print(f\"Is the conversion of '9.8' to int equal to 10? {conversion_check}\")"
   ]
  },
  {
   "cell_type": "code",
   "execution_count": 19,
   "id": "dd0b4cf0",
   "metadata": {},
   "outputs": [
    {
     "name": "stdout",
     "output_type": "stream",
     "text": [
      "Enter hours: 12\n",
      "Enter rate per hour: 30\n",
      "Your weekly earning is 360.0\n"
     ]
    }
   ],
   "source": [
    "# Task 21: Calculating pay\n",
    "hours_worked = float(input(\"Enter hours: \"))\n",
    "rate_per_hour = float(input(\"Enter rate per hour: \"))\n",
    "weekly_earning = hours_worked * rate_per_hour\n",
    "print(f\"Your weekly earning is {weekly_earning}\")"
   ]
  },
  {
   "cell_type": "code",
   "execution_count": 20,
   "id": "910b5661",
   "metadata": {},
   "outputs": [
    {
     "name": "stdout",
     "output_type": "stream",
     "text": [
      "Enter number of years you have lived: 27\n",
      "You have lived for 851472000 seconds.\n"
     ]
    }
   ],
   "source": [
    "# Task 22: Calculating seconds lived\n",
    "years_lived = int(input(\"Enter number of years you have lived: \"))\n",
    "seconds_lived = years_lived * 365 * 24 * 60 * 60\n",
    "print(f\"You have lived for {seconds_lived} seconds.\")"
   ]
  },
  {
   "cell_type": "code",
   "execution_count": 21,
   "id": "2a5d78e5",
   "metadata": {},
   "outputs": [
    {
     "name": "stdout",
     "output_type": "stream",
     "text": [
      "1 1 1 1 1\n",
      "2 1 2 4 8\n",
      "3 1 3 9 27\n",
      "4 1 4 16 64\n",
      "5 1 5 25 125\n"
     ]
    }
   ],
   "source": [
    "# Task 23: Displaying a table\n",
    "print(\"1 1 1 1 1\")\n",
    "for i in range(2, 6):\n",
    "    print(f\"{i} 1 {i} {i**2} {i**3}\")"
   ]
  }
 ],
 "metadata": {
  "kernelspec": {
   "display_name": "Python 3 (ipykernel)",
   "language": "python",
   "name": "python3"
  },
  "language_info": {
   "codemirror_mode": {
    "name": "ipython",
    "version": 3
   },
   "file_extension": ".py",
   "mimetype": "text/x-python",
   "name": "python",
   "nbconvert_exporter": "python",
   "pygments_lexer": "ipython3",
   "version": "3.11.3"
  }
 },
 "nbformat": 4,
 "nbformat_minor": 5
}
