{
 "cells": [
  {
   "cell_type": "code",
   "execution_count": 1,
   "id": "73d596c7",
   "metadata": {},
   "outputs": [
    {
     "name": "stdout",
     "output_type": "stream",
     "text": [
      "Enter your age: 23\n",
      "You are old enough to learn to drive.\n"
     ]
    }
   ],
   "source": [
    "# Task 1: Get user input to check if old enough to drive\n",
    "user_age = int(input(\"Enter your age: \"))\n",
    "\n",
    "if user_age >= 18:\n",
    "    print(\"You are old enough to learn to drive.\")\n",
    "else:\n",
    "    years_to_wait = 18 - user_age\n",
    "    print(f\"You need {years_to_wait} more years to learn to drive.\")"
   ]
  },
  {
   "cell_type": "code",
   "execution_count": 2,
   "id": "206c0a77",
   "metadata": {},
   "outputs": [
    {
     "name": "stdout",
     "output_type": "stream",
     "text": [
      "Enter your age: 34\n",
      "You are 11 years older than me.\n"
     ]
    }
   ],
   "source": [
    "# Task 2: Compare values of my_age and your_age\n",
    "your_age = int(input(\"Enter your age: \"))\n",
    "\n",
    "if your_age > user_age:\n",
    "    age_difference = your_age - user_age\n",
    "    plural = 'years' if age_difference != 1 else 'year'\n",
    "    print(f\"You are {age_difference} {plural} older than me.\")\n",
    "elif your_age < user_age:\n",
    "    age_difference = user_age - your_age\n",
    "    plural = 'years' if age_difference != 1 else 'year'\n",
    "    print(f\"I am {age_difference} {plural} older than you.\")\n",
    "else:\n",
    "    print(\"We are the same age.\")"
   ]
  },
  {
   "cell_type": "code",
   "execution_count": 3,
   "id": "82bf716a",
   "metadata": {},
   "outputs": [
    {
     "name": "stdout",
     "output_type": "stream",
     "text": [
      "Enter number one: 5\n",
      "Enter number two: 7\n",
      "5.0 is smaller than 7.0\n"
     ]
    }
   ],
   "source": [
    "# Task 3: Compare two numbers from the user\n",
    "a = float(input(\"Enter number one: \"))\n",
    "b = float(input(\"Enter number two: \"))\n",
    "\n",
    "if a > b:\n",
    "    print(f\"{a} is greater than {b}\")\n",
    "elif a < b:\n",
    "    print(f\"{a} is smaller than {b}\")\n",
    "else:\n",
    "    print(f\"{a} is equal to {b}\")"
   ]
  },
  {
   "cell_type": "code",
   "execution_count": 4,
   "id": "e56b3b23",
   "metadata": {},
   "outputs": [
    {
     "name": "stdout",
     "output_type": "stream",
     "text": [
      "Enter your score: 78\n",
      "Grade: B\n"
     ]
    }
   ],
   "source": [
    "# Task 4: Grade students based on scores\n",
    "score = int(input(\"Enter your score: \"))\n",
    "\n",
    "if 80 <= score <= 100:\n",
    "    print(\"Grade: A\")\n",
    "elif 70 <= score <= 89:\n",
    "    print(\"Grade: B\")\n",
    "elif 60 <= score <= 69:\n",
    "    print(\"Grade: C\")\n",
    "elif 50 <= score <= 59:\n",
    "    print(\"Grade: D\")\n",
    "elif 0 <= score <= 49:\n",
    "    print(\"Grade: F\")\n",
    "else:\n",
    "    print(\"Invalid score\")"
   ]
  },
  {
   "cell_type": "code",
   "execution_count": 5,
   "id": "b7542e06",
   "metadata": {},
   "outputs": [
    {
     "name": "stdout",
     "output_type": "stream",
     "text": [
      "Enter the month: April\n",
      "The season is Spring.\n"
     ]
    }
   ],
   "source": [
    "# Task 5: Check the season\n",
    "user_month = input(\"Enter the month: \").lower()\n",
    "\n",
    "if user_month in {'september', 'october', 'november'}:\n",
    "    print(\"The season is Autumn.\")\n",
    "elif user_month in {'december', 'january', 'february'}:\n",
    "    print(\"The season is Winter.\")\n",
    "elif user_month in {'march', 'april', 'may'}:\n",
    "    print(\"The season is Spring.\")\n",
    "elif user_month in {'june', 'july', 'august'}:\n",
    "    print(\"The season is Summer.\")\n",
    "else:\n",
    "    print(\"Invalid month\")"
   ]
  },
  {
   "cell_type": "code",
   "execution_count": 6,
   "id": "6a3dc89f",
   "metadata": {},
   "outputs": [
    {
     "name": "stdout",
     "output_type": "stream",
     "text": [
      "Enter a fruit: banana\n",
      "That fruit already exists in the list.\n"
     ]
    }
   ],
   "source": [
    "# Task 6: Modify the list of fruits\n",
    "fruits = ['banana', 'orange', 'mango', 'lemon']\n",
    "new_fruit = input(\"Enter a fruit: \").lower()\n",
    "\n",
    "if new_fruit not in fruits:\n",
    "    fruits.append(new_fruit)\n",
    "    print(f\"The modified list of fruits: {fruits}\")\n",
    "else:\n",
    "    print(\"That fruit already exists in the list.\")"
   ]
  },
  {
   "cell_type": "code",
   "execution_count": 15,
   "id": "2c65bf14",
   "metadata": {},
   "outputs": [
    {
     "name": "stdout",
     "output_type": "stream",
     "text": [
      "Middle skill: Node\n"
     ]
    }
   ],
   "source": [
    "person = {\n",
    "    'first_name': 'Bello',\n",
    "    'last_name': 'Abdullahi',\n",
    "    'age': 250,\n",
    "    'country': 'Finland',\n",
    "    'is_married': True,\n",
    "    'skills': ['JavaScript', 'React', 'Node', 'MongoDB', 'Python'],\n",
    "    'address': {\n",
    "        'street': 'Space street',\n",
    "        'zipcode': '02210'\n",
    "    }\n",
    "}\n",
    "\n",
    "# Task 7: Check if the person dictionary has skills key and print the middle skill\n",
    "if 'skills' in person:\n",
    "    skills_list = person['skills']\n",
    "    middle_index = len(skills_list) // 2\n",
    "    print(f\"Middle skill: {skills_list[middle_index]}\")"
   ]
  },
  {
   "cell_type": "code",
   "execution_count": 12,
   "id": "8b156d70",
   "metadata": {},
   "outputs": [
    {
     "name": "stdout",
     "output_type": "stream",
     "text": [
      "The person has the 'Python' skill.\n"
     ]
    }
   ],
   "source": [
    "# Task 8: Check if the person has 'Python' skill and print the result\n",
    "if 'skills' in person and 'Python' in person['skills']:\n",
    "    print(\"The person has the 'Python' skill.\")\n",
    "else:\n",
    "    print(\"The person does not have the 'Python' skill.\")"
   ]
  },
  {
   "cell_type": "code",
   "execution_count": 13,
   "id": "cceba06d",
   "metadata": {},
   "outputs": [
    {
     "name": "stdout",
     "output_type": "stream",
     "text": [
      "Unknown title\n"
     ]
    }
   ],
   "source": [
    "# Task 3: Determine the title based on skills\n",
    "if 'skills' in person:\n",
    "    skills_set = set(person['skills'])\n",
    "\n",
    "    if skills_set == {'JavaScript', 'React'}:\n",
    "        print(\"He is a front end developer.\")\n",
    "    elif skills_set == {'Node', 'Python', 'MongoDB'}:\n",
    "        print(\"He is a backend developer.\")\n",
    "    elif skills_set == {'React', 'Node', 'MongoDB'}:\n",
    "        print(\"He is a fullstack developer.\")\n",
    "    else:\n",
    "        print(\"Unknown title\")"
   ]
  },
  {
   "cell_type": "code",
   "execution_count": 16,
   "id": "2908a01e",
   "metadata": {},
   "outputs": [
    {
     "name": "stdout",
     "output_type": "stream",
     "text": [
      "Bello is married and lives in Finland. Address: Space street, 02210\n"
     ]
    }
   ],
   "source": [
    "# Task 4: Print information if married and lives in Finland\n",
    "if person.get('is_married') and person.get('country') == 'Finland':\n",
    "    print(f\"{person['first_name']} is married and lives in Finland. Address: {person['address']['street']}, {person['address']['zipcode']}\")"
   ]
  }
 ],
 "metadata": {
  "kernelspec": {
   "display_name": "Python 3 (ipykernel)",
   "language": "python",
   "name": "python3"
  },
  "language_info": {
   "codemirror_mode": {
    "name": "ipython",
    "version": 3
   },
   "file_extension": ".py",
   "mimetype": "text/x-python",
   "name": "python",
   "nbconvert_exporter": "python",
   "pygments_lexer": "ipython3",
   "version": "3.11.3"
  }
 },
 "nbformat": 4,
 "nbformat_minor": 5
}
