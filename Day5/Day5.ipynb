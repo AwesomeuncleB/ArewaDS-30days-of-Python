{
 "cells": [
  {
   "cell_type": "code",
   "execution_count": 1,
   "id": "d3ae57fd",
   "metadata": {},
   "outputs": [],
   "source": [
    "# Task 1: Declare an empty list\n",
    "empty_list = []\n",
    "\n",
    "# Task 2: Declare a list with more than 5 items\n",
    "list_with_items = [1, 'apple', 3.14, True, 'banana']"
   ]
  },
  {
   "cell_type": "code",
   "execution_count": 3,
   "id": "6f94f622",
   "metadata": {},
   "outputs": [
    {
     "data": {
      "text/plain": [
       "[1, 'apple', 3.14, True, 'banana']"
      ]
     },
     "execution_count": 3,
     "metadata": {},
     "output_type": "execute_result"
    }
   ],
   "source": [
    "# Task 3: Find the length of your list\n",
    "list_length = len(list_with_items)\n",
    "list_with_items"
   ]
  },
  {
   "cell_type": "code",
   "execution_count": 4,
   "id": "6cb0a3a6",
   "metadata": {},
   "outputs": [],
   "source": [
    "# Task 4: Get the first item, the middle item and the last item of the list\n",
    "first_item = list_with_items[0]\n",
    "middle_item = list_with_items[list_length // 2]\n",
    "last_item = list_with_items[-1]"
   ]
  },
  {
   "cell_type": "code",
   "execution_count": 5,
   "id": "38cf0b72",
   "metadata": {},
   "outputs": [
    {
     "data": {
      "text/plain": [
       "1"
      ]
     },
     "execution_count": 5,
     "metadata": {},
     "output_type": "execute_result"
    }
   ],
   "source": [
    "first_item"
   ]
  },
  {
   "cell_type": "code",
   "execution_count": 6,
   "id": "e05155c2",
   "metadata": {},
   "outputs": [
    {
     "data": {
      "text/plain": [
       "3.14"
      ]
     },
     "execution_count": 6,
     "metadata": {},
     "output_type": "execute_result"
    }
   ],
   "source": [
    "middle_item"
   ]
  },
  {
   "cell_type": "code",
   "execution_count": 7,
   "id": "c5b5543f",
   "metadata": {},
   "outputs": [
    {
     "data": {
      "text/plain": [
       "'banana'"
      ]
     },
     "execution_count": 7,
     "metadata": {},
     "output_type": "execute_result"
    }
   ],
   "source": [
    "last_item"
   ]
  },
  {
   "cell_type": "code",
   "execution_count": 8,
   "id": "1f9cc8a6",
   "metadata": {},
   "outputs": [],
   "source": [
    "# Task 5: Declare a list called mixed_data_types\n",
    "mixed_data_types = ['YourName', 25, 1.75, 'Single', 'YourAddress']"
   ]
  },
  {
   "cell_type": "code",
   "execution_count": 9,
   "id": "88c55c5d",
   "metadata": {},
   "outputs": [
    {
     "name": "stdout",
     "output_type": "stream",
     "text": [
      "['Facebook', 'Google', 'Microsoft', 'Apple', 'IBM', 'Oracle', 'Amazon']\n"
     ]
    }
   ],
   "source": [
    "# Task 6: Declare a list variable named it_companies\n",
    "it_companies = ['Facebook', 'Google', 'Microsoft', 'Apple', 'IBM', 'Oracle', 'Amazon']\n",
    "\n",
    "# Task 7: Print the list using print()\n",
    "print(it_companies)"
   ]
  },
  {
   "cell_type": "code",
   "execution_count": 10,
   "id": "dfa99274",
   "metadata": {},
   "outputs": [
    {
     "name": "stdout",
     "output_type": "stream",
     "text": [
      "Number of companies: 7\n"
     ]
    }
   ],
   "source": [
    "# Task 8: Print the number of companies in the list\n",
    "num_companies = len(it_companies)\n",
    "print(f'Number of companies: {num_companies}')"
   ]
  },
  {
   "cell_type": "code",
   "execution_count": 11,
   "id": "e8c4a393",
   "metadata": {},
   "outputs": [
    {
     "name": "stdout",
     "output_type": "stream",
     "text": [
      "First company: Facebook\n",
      "Middle company: Apple\n",
      "Last company: Amazon\n"
     ]
    }
   ],
   "source": [
    "# Task 9: Print the first, middle and last company\n",
    "print(f'First company: {it_companies[0]}')\n",
    "print(f'Middle company: {it_companies[num_companies // 2]}')\n",
    "print(f'Last company: {it_companies[-1]}')"
   ]
  },
  {
   "cell_type": "code",
   "execution_count": 12,
   "id": "97c74a47",
   "metadata": {},
   "outputs": [
    {
     "name": "stdout",
     "output_type": "stream",
     "text": [
      "['Facebook', 'Google', 'NewCompany', 'Apple', 'IBM', 'Oracle', 'Amazon']\n"
     ]
    }
   ],
   "source": [
    "# Task 10: Print the list after modifying one of the companies\n",
    "it_companies[2] = 'NewCompany'\n",
    "print(it_companies)"
   ]
  },
  {
   "cell_type": "code",
   "execution_count": 13,
   "id": "e8cdd815",
   "metadata": {},
   "outputs": [
    {
     "name": "stdout",
     "output_type": "stream",
     "text": [
      "['Facebook', 'Google', 'NewCompany', 'Apple', 'IBM', 'Oracle', 'Amazon', 'NewITCompany']\n"
     ]
    }
   ],
   "source": [
    "# Task 11: Add an IT company to it_companies\n",
    "it_companies.append('NewITCompany')\n",
    "print(it_companies)"
   ]
  },
  {
   "cell_type": "code",
   "execution_count": 14,
   "id": "cd6b49f3",
   "metadata": {},
   "outputs": [
    {
     "name": "stdout",
     "output_type": "stream",
     "text": [
      "['Facebook', 'Google', 'NewCompany', 'MiddleCompany', 'Apple', 'IBM', 'Oracle', 'Amazon', 'NewITCompany']\n"
     ]
    }
   ],
   "source": [
    "# Task 12: Insert an IT company in the middle of the companies list\n",
    "it_companies.insert(num_companies // 2, 'MiddleCompany')\n",
    "print(it_companies)"
   ]
  },
  {
   "cell_type": "code",
   "execution_count": 15,
   "id": "70e5872d",
   "metadata": {},
   "outputs": [
    {
     "name": "stdout",
     "output_type": "stream",
     "text": [
      "['Facebook', 'Google', 'NewCompany', 'MiddleCompany', 'APPLE', 'IBM', 'Oracle', 'Amazon', 'NewITCompany']\n"
     ]
    }
   ],
   "source": [
    "# Task 13: Change one of the it_companies names to uppercase (IBM excluded!)\n",
    "it_companies[4] = it_companies[4].upper()\n",
    "print(it_companies)"
   ]
  },
  {
   "cell_type": "code",
   "execution_count": 16,
   "id": "900bf7f6",
   "metadata": {},
   "outputs": [
    {
     "name": "stdout",
     "output_type": "stream",
     "text": [
      "Facebook#;  Google#;  NewCompany#;  MiddleCompany#;  APPLE#;  IBM#;  Oracle#;  Amazon#;  NewITCompany\n"
     ]
    }
   ],
   "source": [
    "# Task 14: Join the it_companies with a string '#;  '\n",
    "joined_companies = '#;  '.join(it_companies)\n",
    "print(joined_companies)"
   ]
  },
  {
   "cell_type": "code",
   "execution_count": 17,
   "id": "feb06b80",
   "metadata": {},
   "outputs": [
    {
     "name": "stdout",
     "output_type": "stream",
     "text": [
      "Does Microsoft exist in the list? False\n"
     ]
    }
   ],
   "source": [
    "# Task 15: Check if a certain company exists in the it_companies list.\n",
    "company_to_check = 'Microsoft'\n",
    "print(f'Does {company_to_check} exist in the list? {company_to_check in it_companies}')"
   ]
  },
  {
   "cell_type": "code",
   "execution_count": 18,
   "id": "07303ea6",
   "metadata": {},
   "outputs": [
    {
     "name": "stdout",
     "output_type": "stream",
     "text": [
      "['APPLE', 'Amazon', 'Facebook', 'Google', 'IBM', 'MiddleCompany', 'NewCompany', 'NewITCompany', 'Oracle']\n"
     ]
    }
   ],
   "source": [
    "# Task 16: Sort the list using sort() method\n",
    "it_companies.sort()\n",
    "print(it_companies)"
   ]
  },
  {
   "cell_type": "code",
   "execution_count": 19,
   "id": "3cd00878",
   "metadata": {},
   "outputs": [
    {
     "name": "stdout",
     "output_type": "stream",
     "text": [
      "['Oracle', 'NewITCompany', 'NewCompany', 'MiddleCompany', 'IBM', 'Google', 'Facebook', 'Amazon', 'APPLE']\n"
     ]
    }
   ],
   "source": [
    "# Task 17: Reverse the list in descending order using reverse() method\n",
    "it_companies.reverse()\n",
    "print(it_companies)"
   ]
  },
  {
   "cell_type": "code",
   "execution_count": 20,
   "id": "bf73f097",
   "metadata": {},
   "outputs": [
    {
     "name": "stdout",
     "output_type": "stream",
     "text": [
      "['Oracle', 'NewITCompany', 'NewCompany']\n"
     ]
    }
   ],
   "source": [
    "# Task 18: Slice out the first 3 companies from the list\n",
    "first_three_companies = it_companies[:3]\n",
    "print(first_three_companies)"
   ]
  },
  {
   "cell_type": "code",
   "execution_count": 21,
   "id": "4ca93795",
   "metadata": {},
   "outputs": [
    {
     "name": "stdout",
     "output_type": "stream",
     "text": [
      "['Facebook', 'Amazon', 'APPLE']\n"
     ]
    }
   ],
   "source": [
    "# Task 19: Slice out the last 3 companies from the list\n",
    "last_three_companies = it_companies[-3:]\n",
    "print(last_three_companies)"
   ]
  },
  {
   "cell_type": "code",
   "execution_count": 22,
   "id": "e436574e",
   "metadata": {},
   "outputs": [
    {
     "name": "stdout",
     "output_type": "stream",
     "text": [
      "MiddleCompany\n"
     ]
    }
   ],
   "source": [
    "# Task 20: Slice out the middle IT company or companies from the list\n",
    "middle_index = num_companies // 2\n",
    "middle_company = it_companies[middle_index] if num_companies % 2 != 0 else [it_companies[middle_index - 1], it_companies[middle_index]]\n",
    "print(middle_company)"
   ]
  },
  {
   "cell_type": "code",
   "execution_count": 23,
   "id": "521f4b5c",
   "metadata": {},
   "outputs": [
    {
     "name": "stdout",
     "output_type": "stream",
     "text": [
      "['NewITCompany', 'NewCompany', 'MiddleCompany', 'IBM', 'Google', 'Facebook', 'Amazon', 'APPLE']\n"
     ]
    }
   ],
   "source": [
    "# Task 21: Remove the first IT company from the list\n",
    "it_companies.pop(0)\n",
    "print(it_companies)"
   ]
  },
  {
   "cell_type": "code",
   "execution_count": 24,
   "id": "f10f071a",
   "metadata": {},
   "outputs": [
    {
     "name": "stdout",
     "output_type": "stream",
     "text": [
      "['NewITCompany', 'NewCompany', 'MiddleCompany', 'Google', 'Facebook', 'Amazon', 'APPLE']\n"
     ]
    }
   ],
   "source": [
    "# Task 22: Remove the middle IT company or companies from the list\n",
    "it_companies.pop(middle_index)\n",
    "print(it_companies)"
   ]
  },
  {
   "cell_type": "code",
   "execution_count": 25,
   "id": "bdc3a4a1",
   "metadata": {},
   "outputs": [
    {
     "name": "stdout",
     "output_type": "stream",
     "text": [
      "['NewITCompany', 'NewCompany', 'MiddleCompany', 'Google', 'Facebook', 'Amazon']\n"
     ]
    }
   ],
   "source": [
    "# Task 23: Remove the last IT company from the list\n",
    "it_companies.pop()\n",
    "print(it_companies)"
   ]
  },
  {
   "cell_type": "code",
   "execution_count": 26,
   "id": "07639432",
   "metadata": {},
   "outputs": [
    {
     "name": "stdout",
     "output_type": "stream",
     "text": [
      "[]\n"
     ]
    }
   ],
   "source": [
    "# Task 24: Remove all IT companies from the list\n",
    "it_companies.clear()\n",
    "print(it_companies)"
   ]
  },
  {
   "cell_type": "code",
   "execution_count": 27,
   "id": "efdeb157",
   "metadata": {},
   "outputs": [],
   "source": [
    "# Task 25: Destroy the IT companies list\n",
    "del it_companies\n",
    "# Uncomment the line below to see the effect of destroying the list\n",
    "# print(it_companies)  # This will raise an error since the list is destroyed"
   ]
  },
  {
   "cell_type": "code",
   "execution_count": 43,
   "id": "6a7ea801",
   "metadata": {
    "scrolled": true
   },
   "outputs": [
    {
     "name": "stdout",
     "output_type": "stream",
     "text": [
      "['HTML', 'CSS', 'JS', 'React', 'Redux', 'Python', 'SQL', 'Node', 'Express', 'MongoDB']\n"
     ]
    }
   ],
   "source": [
    "# Task 26: Join the following lists\n",
    "front_end = ['HTML', 'CSS', 'JS', 'React', 'Redux']\n",
    "back_end = ['Node', 'Express', 'MongoDB']\n",
    "\n",
    "# Concatenate the lists\n",
    "full_stack = front_end + back_end\n",
    "\n",
    "# Find the index of 'Redux'\n",
    "redux_index = full_stack.index('Redux')\n",
    "\n",
    "# Insert Python and SQL after Redux\n",
    "full_stack = full_stack[:redux_index + 1] + ['Python', 'SQL'] + full_stack[redux_index + 1:]\n",
    "\n",
    "print(full_stack)\n"
   ]
  },
  {
   "cell_type": "code",
   "execution_count": 31,
   "id": "0c1d0649",
   "metadata": {},
   "outputs": [
    {
     "name": "stdout",
     "output_type": "stream",
     "text": [
      "Sorted ages: [19, 19, 20, 22, 24, 24, 24, 25, 25, 26]\n",
      "Minimum age: 19, Maximum age: 26\n"
     ]
    }
   ],
   "source": [
    "# Sort the list and find the min and max age\n",
    "ages = [19, 22, 19, 24, 20, 25, 26, 24, 25, 24]\n",
    "ages.sort()\n",
    "min_age = min(ages)\n",
    "max_age = max(ages)\n",
    "print(f'Sorted ages: {ages}')\n",
    "print(f'Minimum age: {min_age}, Maximum age: {max_age}')"
   ]
  },
  {
   "cell_type": "code",
   "execution_count": 32,
   "id": "9a97600b",
   "metadata": {},
   "outputs": [
    {
     "name": "stdout",
     "output_type": "stream",
     "text": [
      "Ages after adding min and max: [19, 19, 20, 22, 24, 24, 24, 25, 25, 26, 19, 26]\n"
     ]
    }
   ],
   "source": [
    "#  Add the min age and the max age again to the list\n",
    "ages.extend([min_age, max_age])\n",
    "print(f'Ages after adding min and max: {ages}')"
   ]
  },
  {
   "cell_type": "code",
   "execution_count": 33,
   "id": "f401a6a6",
   "metadata": {},
   "outputs": [
    {
     "name": "stdout",
     "output_type": "stream",
     "text": [
      "Median age: 24.0\n"
     ]
    }
   ],
   "source": [
    "#  Find the median age\n",
    "middle_index = len(ages) // 2\n",
    "median_age = ages[middle_index] if len(ages) % 2 != 0 else (ages[middle_index - 1] + ages[middle_index]) / 2\n",
    "print(f'Median age: {median_age}')"
   ]
  },
  {
   "cell_type": "code",
   "execution_count": 34,
   "id": "65ae1b53",
   "metadata": {},
   "outputs": [
    {
     "name": "stdout",
     "output_type": "stream",
     "text": [
      "Average age: 22.75\n"
     ]
    }
   ],
   "source": [
    "#  Find the average age\n",
    "average_age = sum(ages) / len(ages)\n",
    "print(f'Average age: {average_age}')"
   ]
  },
  {
   "cell_type": "code",
   "execution_count": 35,
   "id": "94f9ab36",
   "metadata": {},
   "outputs": [
    {
     "name": "stdout",
     "output_type": "stream",
     "text": [
      "Age range: 7\n"
     ]
    }
   ],
   "source": [
    "#  Find the range of the ages\n",
    "age_range = max(ages) - min(ages)\n",
    "print(f'Age range: {age_range}')\n"
   ]
  },
  {
   "cell_type": "code",
   "execution_count": 36,
   "id": "e057a824",
   "metadata": {},
   "outputs": [
    {
     "name": "stdout",
     "output_type": "stream",
     "text": [
      "Minimum - Average difference: 3.75\n",
      "Maximum - Average difference: 3.25\n"
     ]
    }
   ],
   "source": [
    "#  Compare the value of (min - average) and (max - average), use abs() method\n",
    "min_avg_diff = abs(min_age - average_age)\n",
    "max_avg_diff = abs(max_age - average_age)\n",
    "print(f'Minimum - Average difference: {min_avg_diff}')\n",
    "print(f'Maximum - Average difference: {max_avg_diff}')"
   ]
  },
  {
   "cell_type": "code",
   "execution_count": 37,
   "id": "676821bc",
   "metadata": {},
   "outputs": [
    {
     "name": "stdout",
     "output_type": "stream",
     "text": [
      "Middle country: Finland\n"
     ]
    }
   ],
   "source": [
    "#  Find the middle country(ies) in the countries list\n",
    "countries = ['China', 'Russia', 'USA', 'Finland', 'Sweden', 'Norway', 'Denmark']\n",
    "middle_country = countries[len(countries) // 2] if len(countries) % 2 != 0 else [countries[middle_index - 1], countries[middle_index]]\n",
    "print(f'Middle country: {middle_country}')\n"
   ]
  },
  {
   "cell_type": "code",
   "execution_count": 38,
   "id": "4e79b8ed",
   "metadata": {},
   "outputs": [
    {
     "name": "stdout",
     "output_type": "stream",
     "text": [
      "First half countries: ['China', 'Russia', 'USA', 'Finland']\n",
      "Second half countries: ['Sweden', 'Norway', 'Denmark']\n"
     ]
    }
   ],
   "source": [
    "#  Divide the countries list into two equal lists if it is even, if not one more country for the first half\n",
    "half_index = len(countries) // 2\n",
    "first_half_countries = countries[:half_index + 1]\n",
    "second_half_countries = countries[half_index + 1:]\n",
    "print(f'First half countries: {first_half_countries}')\n",
    "print(f'Second half countries: {second_half_countries}')"
   ]
  },
  {
   "cell_type": "code",
   "execution_count": 40,
   "id": "94a6018f",
   "metadata": {},
   "outputs": [
    {
     "name": "stdout",
     "output_type": "stream",
     "text": [
      "First three countries: China, Russia, USA\n",
      "Scandic countries: Finland, Sweden, Norway, Denmark\n"
     ]
    }
   ],
   "source": [
    "#  Unpack the first three countries and the rest as scandic countries\n",
    "country1, country2, country3, *scandic_countries = countries\n",
    "print(f'First three countries: {country1}, {country2}, {country3}')\n",
    "print(f'Scandic countries: {\", \".join(scandic_countries)}')"
   ]
  }
 ],
 "metadata": {
  "kernelspec": {
   "display_name": "Python 3 (ipykernel)",
   "language": "python",
   "name": "python3"
  },
  "language_info": {
   "codemirror_mode": {
    "name": "ipython",
    "version": 3
   },
   "file_extension": ".py",
   "mimetype": "text/x-python",
   "name": "python",
   "nbconvert_exporter": "python",
   "pygments_lexer": "ipython3",
   "version": "3.11.3"
  }
 },
 "nbformat": 4,
 "nbformat_minor": 5
}
