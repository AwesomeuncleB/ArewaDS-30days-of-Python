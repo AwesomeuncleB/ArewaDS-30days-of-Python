{
 "cells": [
  {
   "cell_type": "code",
   "execution_count": 1,
   "id": "c4287cbe",
   "metadata": {},
   "outputs": [
    {
     "name": "stdout",
     "output_type": "stream",
     "text": [
      "Thirty Days Of Python\n"
     ]
    }
   ],
   "source": [
    "# Concatenating strings\n",
    "string1 = 'Thirty'\n",
    "string2 = 'Days'\n",
    "string3 = 'Of'\n",
    "string4 = 'Python'\n",
    "concatenated_string = f'{string1} {string2} {string3} {string4}'\n",
    "print(concatenated_string)"
   ]
  },
  {
   "cell_type": "code",
   "execution_count": 2,
   "id": "56a71221",
   "metadata": {},
   "outputs": [
    {
     "name": "stdout",
     "output_type": "stream",
     "text": [
      "Coding For All\n"
     ]
    }
   ],
   "source": [
    "# Concatenating another set of strings\n",
    "string5 = 'Coding'\n",
    "string6 = 'For'\n",
    "string7 = 'All'\n",
    "concatenated_string2 = f'{string5} {string6} {string7}'\n",
    "print(concatenated_string2)"
   ]
  },
  {
   "cell_type": "code",
   "execution_count": 3,
   "id": "f31d8dd8",
   "metadata": {},
   "outputs": [
    {
     "name": "stdout",
     "output_type": "stream",
     "text": [
      "Coding For All\n",
      "14\n"
     ]
    }
   ],
   "source": [
    "# Declaring and printing a variable\n",
    "company = \"Coding For All\"\n",
    "print(company)\n",
    "\n",
    "# Print length of the string\n",
    "print(len(company))"
   ]
  },
  {
   "cell_type": "code",
   "execution_count": 4,
   "id": "ec10b3cc",
   "metadata": {},
   "outputs": [
    {
     "name": "stdout",
     "output_type": "stream",
     "text": [
      "CODING FOR ALL\n",
      "coding for all\n"
     ]
    }
   ],
   "source": [
    "# Converting to uppercase and lowercase\n",
    "print(company.upper())\n",
    "print(company.lower())"
   ]
  },
  {
   "cell_type": "code",
   "execution_count": 5,
   "id": "2198b492",
   "metadata": {},
   "outputs": [
    {
     "name": "stdout",
     "output_type": "stream",
     "text": [
      "Coding for all\n",
      "Coding For All\n",
      "cODING fOR aLL\n"
     ]
    }
   ],
   "source": [
    "# Formatting the string using various methods\n",
    "print(company.capitalize())\n",
    "print(company.title())\n",
    "print(company.swapcase())"
   ]
  },
  {
   "cell_type": "code",
   "execution_count": 6,
   "id": "fc503375",
   "metadata": {},
   "outputs": [
    {
     "name": "stdout",
     "output_type": "stream",
     "text": [
      "For All\n"
     ]
    }
   ],
   "source": [
    "# Cutting out the first word\n",
    "cut_string = company.split(' ', 1)[1]\n",
    "print(cut_string)"
   ]
  },
  {
   "cell_type": "code",
   "execution_count": 7,
   "id": "681e54e0",
   "metadata": {},
   "outputs": [
    {
     "name": "stdout",
     "output_type": "stream",
     "text": [
      "True\n"
     ]
    }
   ],
   "source": [
    "# Checking if string contains a word\n",
    "print('Coding' in company)"
   ]
  },
  {
   "cell_type": "code",
   "execution_count": 8,
   "id": "5db4a5e6",
   "metadata": {},
   "outputs": [
    {
     "name": "stdout",
     "output_type": "stream",
     "text": [
      "Python For All\n"
     ]
    }
   ],
   "source": [
    "# Replacing a word in the string\n",
    "replaced_string = company.replace('Coding', 'Python')\n",
    "print(replaced_string)"
   ]
  },
  {
   "cell_type": "code",
   "execution_count": 9,
   "id": "7b3cdb8f",
   "metadata": {},
   "outputs": [
    {
     "name": "stdout",
     "output_type": "stream",
     "text": [
      "['Coding', 'For', 'All']\n",
      "['Facebook', 'Google', 'Microsoft', 'Apple', 'IBM', 'Oracle', 'Amazon']\n"
     ]
    }
   ],
   "source": [
    "# Splitting strings\n",
    "split_string1 = 'Coding For All'.split()\n",
    "split_string2 = \"Facebook, Google, Microsoft, Apple, IBM, Oracle, Amazon\".split(', ')\n",
    "print(split_string1)\n",
    "print(split_string2)"
   ]
  },
  {
   "cell_type": "code",
   "execution_count": 10,
   "id": "a830e647",
   "metadata": {},
   "outputs": [
    {
     "name": "stdout",
     "output_type": "stream",
     "text": [
      "C\n",
      "l\n",
      " \n"
     ]
    }
   ],
   "source": [
    "# Accessing characters by index\n",
    "print(company[0])\n",
    "print(company[-1])\n",
    "print(company[10])"
   ]
  },
  {
   "cell_type": "code",
   "execution_count": 11,
   "id": "57a9d966",
   "metadata": {},
   "outputs": [
    {
     "name": "stdout",
     "output_type": "stream",
     "text": [
      "PFE\n",
      "CFA\n"
     ]
    }
   ],
   "source": [
    "# Creating acronyms\n",
    "acronym1 = ''.join(word[0].upper() for word in 'Python For Everyone'.split())\n",
    "acronym2 = ''.join(word[0].upper() for word in 'Coding For All'.split())\n",
    "print(acronym1)\n",
    "print(acronym2)"
   ]
  },
  {
   "cell_type": "code",
   "execution_count": 12,
   "id": "d03d770b",
   "metadata": {},
   "outputs": [
    {
     "name": "stdout",
     "output_type": "stream",
     "text": [
      "0\n",
      "7\n",
      "13\n"
     ]
    }
   ],
   "source": [
    "# Use index and rfind\n",
    "print(company.index('C'))\n",
    "print(company.index('F'))\n",
    "print(company.rfind('l'))"
   ]
  },
  {
   "cell_type": "code",
   "execution_count": 13,
   "id": "15e5f5f3",
   "metadata": {},
   "outputs": [
    {
     "name": "stdout",
     "output_type": "stream",
     "text": [
      "31\n",
      "47\n"
     ]
    }
   ],
   "source": [
    "# Finding the occurrences of words\n",
    "sentence = 'You cannot end a sentence with because because because is a conjunction'\n",
    "print(sentence.index('because'))\n",
    "print(sentence.rindex('because'))"
   ]
  },
  {
   "cell_type": "code",
   "execution_count": 14,
   "id": "08313ad8",
   "metadata": {},
   "outputs": [
    {
     "name": "stdout",
     "output_type": "stream",
     "text": [
      "because because because\n"
     ]
    }
   ],
   "source": [
    "# Slicing out a phrase\n",
    "slice_phrase = sentence[sentence.index('because'): sentence.rindex('because') + len('because')].strip()\n",
    "print(slice_phrase)"
   ]
  },
  {
   "cell_type": "code",
   "execution_count": 15,
   "id": "73fa1746",
   "metadata": {},
   "outputs": [
    {
     "name": "stdout",
     "output_type": "stream",
     "text": [
      "True\n",
      "False\n"
     ]
    }
   ],
   "source": [
    "# Checking if a string starts or ends with a substring\n",
    "print(company.startswith('Coding'))\n",
    "print(company.endswith('coding'))"
   ]
  },
  {
   "cell_type": "code",
   "execution_count": 16,
   "id": "bfcc6841",
   "metadata": {},
   "outputs": [
    {
     "name": "stdout",
     "output_type": "stream",
     "text": [
      "Coding For All\n"
     ]
    }
   ],
   "source": [
    "# Removing trailing spaces\n",
    "trimmed_string = '   Coding For All      '.strip()\n",
    "print(trimmed_string)"
   ]
  },
  {
   "cell_type": "code",
   "execution_count": 17,
   "id": "4b4b7cc0",
   "metadata": {},
   "outputs": [
    {
     "name": "stdout",
     "output_type": "stream",
     "text": [
      "False\n",
      "True\n"
     ]
    }
   ],
   "source": [
    "# Checking if a string is an identifier\n",
    "print('30DaysOfPython'.isidentifier())\n",
    "print('thirty_days_of_python'.isidentifier())"
   ]
  },
  {
   "cell_type": "code",
   "execution_count": 18,
   "id": "b28586f6",
   "metadata": {},
   "outputs": [
    {
     "name": "stdout",
     "output_type": "stream",
     "text": [
      "Django # Flask # Bottle # Pyramid # Falcon\n"
     ]
    }
   ],
   "source": [
    "# Joining a list with a hash with space string\n",
    "python_libraries = ['Django', 'Flask', 'Bottle', 'Pyramid', 'Falcon']\n",
    "joined_libraries = ' # '.join(python_libraries)\n",
    "print(joined_libraries)"
   ]
  },
  {
   "cell_type": "code",
   "execution_count": 19,
   "id": "68ba5a7f",
   "metadata": {},
   "outputs": [
    {
     "name": "stdout",
     "output_type": "stream",
     "text": [
      "I am enjoying this challenge.\n",
      "I just wonder what is next.\n",
      "Name\tAge\tCountry\tCity\n",
      "Asabeneh\t250\tFinland\tHelsinki\n"
     ]
    }
   ],
   "source": [
    "# Using new line and tab escape sequences\n",
    "new_line_separated = 'I am enjoying this challenge.\\nI just wonder what is next.'\n",
    "tab_separated = 'Name\\tAge\\tCountry\\tCity\\nAsabeneh\\t250\\tFinland\\tHelsinki'\n",
    "print(new_line_separated)\n",
    "print(tab_separated)"
   ]
  },
  {
   "cell_type": "code",
   "execution_count": 20,
   "id": "58cbb55b",
   "metadata": {},
   "outputs": [
    {
     "name": "stdout",
     "output_type": "stream",
     "text": [
      "The area of a circle with radius 10 is 314.0 meters square.\n"
     ]
    }
   ],
   "source": [
    "# String formatting for circle area\n",
    "radius = 10\n",
    "area = 3.14 * radius ** 2\n",
    "print(f'The area of a circle with radius {radius} is {area} meters square.')"
   ]
  },
  {
   "cell_type": "code",
   "execution_count": 21,
   "id": "a916c233",
   "metadata": {},
   "outputs": [
    {
     "name": "stdout",
     "output_type": "stream",
     "text": [
      "8 + 6 = 14\n",
      "8 - 6 = 2\n",
      "8 * 6 = 48\n",
      "8 / 6 = 1.3333333333333333\n",
      "8 % 6 = 2\n",
      "8 // 6 = 1\n",
      "8 ** 6 = 262144\n"
     ]
    }
   ],
   "source": [
    "# String formatting for mathematical operations\n",
    "print(f'8 + 6 = {8 + 6}')\n",
    "print(f'8 - 6 = {8 - 6}')\n",
    "print(f'8 * 6 = {8 * 6}')\n",
    "print(f'8 / 6 = {8 / 6}')\n",
    "print(f'8 % 6 = {8 % 6}')\n",
    "print(f'8 // 6 = {8 // 6}')\n",
    "print(f'8 ** 6 = {8 ** 6}')"
   ]
  }
 ],
 "metadata": {
  "kernelspec": {
   "display_name": "Python 3 (ipykernel)",
   "language": "python",
   "name": "python3"
  },
  "language_info": {
   "codemirror_mode": {
    "name": "ipython",
    "version": 3
   },
   "file_extension": ".py",
   "mimetype": "text/x-python",
   "name": "python",
   "nbconvert_exporter": "python",
   "pygments_lexer": "ipython3",
   "version": "3.11.3"
  }
 },
 "nbformat": 4,
 "nbformat_minor": 5
}
