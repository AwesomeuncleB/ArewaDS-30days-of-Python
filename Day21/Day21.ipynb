{
 "cells": [
  {
   "cell_type": "code",
   "execution_count": 1,
   "id": "c17d19c5",
   "metadata": {},
   "outputs": [],
   "source": [
    "class Statistics:\n",
    "    def __init__(self, data):\n",
    "        self.data = data\n",
    "\n",
    "    def count(self):\n",
    "        return len(self.data)\n",
    "\n",
    "    def sum(self):\n",
    "        return sum(self.data)\n",
    "\n",
    "    def min(self):\n",
    "        return min(self.data)\n",
    "\n",
    "    def max(self):\n",
    "        return max(self.data)\n",
    "\n",
    "    def range(self):\n",
    "        return max(self.data) - min(self.data)\n",
    "\n",
    "    def mean(self):\n",
    "        return sum(self.data) / len(self.data)\n",
    "\n",
    "    def median(self):\n",
    "        sorted_data = sorted(self.data)\n",
    "        n = len(sorted_data)\n",
    "        if n % 2 == 0:\n",
    "            return (sorted_data[n // 2 - 1] + sorted_data[n // 2]) / 2\n",
    "        else:\n",
    "            return sorted_data[n // 2]\n",
    "\n",
    "    def mode(self):\n",
    "        freq_dict = {}\n",
    "        for num in self.data:\n",
    "            freq_dict[num] = freq_dict.get(num, 0) + 1\n",
    "\n",
    "        mode_value = max(freq_dict, key=freq_dict.get)\n",
    "        return {'mode': mode_value, 'count': freq_dict[mode_value]}\n",
    "\n",
    "    def std(self):\n",
    "        mean_value = self.mean()\n",
    "        variance = sum((x - mean_value) ** 2 for x in self.data) / len(self.data)\n",
    "        return variance ** 0.5\n",
    "\n",
    "    def var(self):\n",
    "        mean_value = self.mean()\n",
    "        return sum((x - mean_value) ** 2 for x in self.data) / len(self.data)\n",
    "\n",
    "    def freq_dist(self):\n",
    "        freq_dict = {}\n",
    "        for num in self.data:\n",
    "            freq_dict[num] = freq_dict.get(num, 0) + 1\n",
    "\n",
    "        return [(freq, num) for num, freq in sorted(freq_dict.items(), key=lambda x: x[1], reverse=True)]"
   ]
  },
  {
   "cell_type": "code",
   "execution_count": 2,
   "id": "75ecc502",
   "metadata": {},
   "outputs": [
    {
     "name": "stdout",
     "output_type": "stream",
     "text": [
      "Count: 25\n",
      "Sum:  744\n",
      "Min:  24\n",
      "Max:  38\n",
      "Range:  14\n",
      "Mean:  29.76\n",
      "Median:  29\n",
      "Mode:  {'mode': 26, 'count': 5}\n",
      "Standard Deviation:  4.188364836066696\n",
      "Variance:  17.5424\n",
      "Frequency Distribution:  [(5, 26), (4, 27), (3, 32), (2, 31), (2, 34), (2, 37), (2, 24), (2, 33), (1, 25), (1, 38), (1, 29)]\n"
     ]
    }
   ],
   "source": [
    "# Examples\n",
    "ages = [31, 26, 34, 37, 27, 26, 32, 32, 26, 27, 27, 24, 32, 33, 27, 25, 26, 38, 37, 31, 34, 24, 33, 29, 26]\n",
    "data = Statistics(ages)\n",
    "\n",
    "print('Count:', data.count())\n",
    "print('Sum: ', data.sum())\n",
    "print('Min: ', data.min())\n",
    "print('Max: ', data.max())\n",
    "print('Range: ', data.range())\n",
    "print('Mean: ', data.mean())\n",
    "print('Median: ', data.median())\n",
    "print('Mode: ', data.mode())\n",
    "print('Standard Deviation: ', data.std())\n",
    "print('Variance: ', data.var())\n",
    "print('Frequency Distribution: ', data.freq_dist())"
   ]
  },
  {
   "cell_type": "code",
   "execution_count": 3,
   "id": "6f284eaa",
   "metadata": {},
   "outputs": [],
   "source": [
    "class PersonAccount:\n",
    "    def __init__(self, firstname, lastname, incomes, expenses):\n",
    "        self.firstname = firstname\n",
    "        self.lastname = lastname\n",
    "        self.incomes = incomes\n",
    "        self.expenses = expenses\n",
    "\n",
    "    def total_income(self):\n",
    "        return sum(self.incomes.values())\n",
    "\n",
    "    def total_expense(self):\n",
    "        return sum(self.expenses.values())\n",
    "\n",
    "    def account_info(self):\n",
    "        return f\"{self.firstname} {self.lastname}'s Account Information:\\n\" \\\n",
    "               f\"Total Income: {self.total_income()}\\nTotal Expense: {self.total_expense()}\"\n",
    "\n",
    "    def add_income(self, description, amount):\n",
    "        self.incomes[description] = amount\n",
    "\n",
    "    def add_expense(self, description, amount):\n",
    "        self.expenses[description] = amount\n",
    "\n",
    "    def account_balance(self):\n",
    "        return self.total_income() - self.total_expense()"
   ]
  },
  {
   "cell_type": "code",
   "execution_count": 4,
   "id": "a9448342",
   "metadata": {},
   "outputs": [
    {
     "name": "stdout",
     "output_type": "stream",
     "text": [
      "John Doe's Account Information:\n",
      "Total Income: 6000\n",
      "Total Expense: 2000\n",
      "Account Balance:  4600\n"
     ]
    }
   ],
   "source": [
    "person = PersonAccount(\"John\", \"Doe\", {\"Salary\": 5000, \"Bonus\": 1000}, {\"Rent\": 1500, \"Groceries\": 500})\n",
    "print(person.account_info())\n",
    "person.add_income(\"Freelance\", 800)\n",
    "person.add_expense(\"Dining\", 200)\n",
    "print('Account Balance: ', person.account_balance())"
   ]
  }
 ],
 "metadata": {
  "kernelspec": {
   "display_name": "Python 3 (ipykernel)",
   "language": "python",
   "name": "python3"
  },
  "language_info": {
   "codemirror_mode": {
    "name": "ipython",
    "version": 3
   },
   "file_extension": ".py",
   "mimetype": "text/x-python",
   "name": "python",
   "nbconvert_exporter": "python",
   "pygments_lexer": "ipython3",
   "version": "3.11.3"
  }
 },
 "nbformat": 4,
 "nbformat_minor": 5
}
