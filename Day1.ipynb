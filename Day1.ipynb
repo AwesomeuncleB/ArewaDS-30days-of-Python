{
 "cells": [
  {
   "cell_type": "markdown",
   "id": "5c2340dd",
   "metadata": {},
   "source": [
    "# Introduction\n",
    "\n",
    "# Day 1 - 30DaysOfPython Challenge"
   ]
  },
  {
   "cell_type": "code",
   "execution_count": 1,
   "id": "93fa9ed5",
   "metadata": {},
   "outputs": [
    {
     "name": "stdout",
     "output_type": "stream",
     "text": [
      "5\n"
     ]
    }
   ],
   "source": [
    "# addition(+)\n",
    "\n",
    "print(2 + 3) "
   ]
  },
  {
   "cell_type": "code",
   "execution_count": 2,
   "id": "6f54cf98",
   "metadata": {},
   "outputs": [
    {
     "name": "stdout",
     "output_type": "stream",
     "text": [
      "2\n"
     ]
    }
   ],
   "source": [
    "# subtraction(-)\n",
    "\n",
    "print(3 - 1)   "
   ]
  },
  {
   "cell_type": "code",
   "execution_count": 3,
   "id": "1e701420",
   "metadata": {},
   "outputs": [
    {
     "name": "stdout",
     "output_type": "stream",
     "text": [
      "6\n"
     ]
    }
   ],
   "source": [
    "# multiplication(*)\n",
    "\n",
    "print(2 * 3)   "
   ]
  },
  {
   "cell_type": "code",
   "execution_count": 4,
   "id": "7b56c3b8",
   "metadata": {},
   "outputs": [
    {
     "name": "stdout",
     "output_type": "stream",
     "text": [
      "1.5\n"
     ]
    }
   ],
   "source": [
    "# division(/)\n",
    "\n",
    "print(3 / 2)   "
   ]
  },
  {
   "cell_type": "code",
   "execution_count": 5,
   "id": "f435c40b",
   "metadata": {},
   "outputs": [
    {
     "name": "stdout",
     "output_type": "stream",
     "text": [
      "9\n"
     ]
    }
   ],
   "source": [
    " # exponential(**)\n",
    "    \n",
    "print(3 ** 2) "
   ]
  },
  {
   "cell_type": "code",
   "execution_count": 6,
   "id": "91088981",
   "metadata": {},
   "outputs": [
    {
     "name": "stdout",
     "output_type": "stream",
     "text": [
      "1\n"
     ]
    }
   ],
   "source": [
    "# modulus(%)\n",
    "\n",
    "print(3 % 2)   "
   ]
  },
  {
   "cell_type": "code",
   "execution_count": 7,
   "id": "73e1e1e0",
   "metadata": {},
   "outputs": [
    {
     "name": "stdout",
     "output_type": "stream",
     "text": [
      "1\n"
     ]
    }
   ],
   "source": [
    "# Floor division operator(//)\n",
    "\n",
    "print(3 // 2)  "
   ]
  },
  {
   "cell_type": "markdown",
   "id": "d083c11e",
   "metadata": {},
   "source": [
    "# Checking data types"
   ]
  },
  {
   "cell_type": "code",
   "execution_count": 8,
   "id": "07f9597b",
   "metadata": {},
   "outputs": [
    {
     "name": "stdout",
     "output_type": "stream",
     "text": [
      "<class 'int'>\n"
     ]
    }
   ],
   "source": [
    " # Int\n",
    "    \n",
    "print(type(10))                 "
   ]
  },
  {
   "cell_type": "code",
   "execution_count": 9,
   "id": "d27d6423",
   "metadata": {},
   "outputs": [
    {
     "name": "stdout",
     "output_type": "stream",
     "text": [
      "<class 'float'>\n"
     ]
    }
   ],
   "source": [
    "# Float\n",
    "\n",
    "print(type(3.14))                "
   ]
  },
  {
   "cell_type": "code",
   "execution_count": 10,
   "id": "7795e418",
   "metadata": {},
   "outputs": [
    {
     "name": "stdout",
     "output_type": "stream",
     "text": [
      "<class 'complex'>\n"
     ]
    }
   ],
   "source": [
    " # Complex\n",
    "    \n",
    "print(type(1 + 3j))             "
   ]
  },
  {
   "cell_type": "code",
   "execution_count": 11,
   "id": "ab98945d",
   "metadata": {},
   "outputs": [
    {
     "name": "stdout",
     "output_type": "stream",
     "text": [
      "<class 'str'>\n"
     ]
    }
   ],
   "source": [
    " # String\n",
    "    \n",
    "print(type('Asabeneh'))         "
   ]
  },
  {
   "cell_type": "code",
   "execution_count": 12,
   "id": "29af4713",
   "metadata": {},
   "outputs": [
    {
     "name": "stdout",
     "output_type": "stream",
     "text": [
      "<class 'list'>\n"
     ]
    }
   ],
   "source": [
    " # List\n",
    "\n",
    "print(type([1, 2, 3]))          "
   ]
  },
  {
   "cell_type": "code",
   "execution_count": 13,
   "id": "eb99fa2f",
   "metadata": {},
   "outputs": [
    {
     "name": "stdout",
     "output_type": "stream",
     "text": [
      "<class 'dict'>\n"
     ]
    }
   ],
   "source": [
    "# Dictionary\n",
    "\n",
    "print(type({'name':'Asabeneh'})) "
   ]
  },
  {
   "cell_type": "code",
   "execution_count": 14,
   "id": "df11f4b4",
   "metadata": {},
   "outputs": [
    {
     "name": "stdout",
     "output_type": "stream",
     "text": [
      "<class 'set'>\n"
     ]
    }
   ],
   "source": [
    " # Set\n",
    "    \n",
    "print(type({9.8, 3.14, 2.7}))   "
   ]
  },
  {
   "cell_type": "code",
   "execution_count": 15,
   "id": "fd5f6add",
   "metadata": {},
   "outputs": [
    {
     "name": "stdout",
     "output_type": "stream",
     "text": [
      "<class 'tuple'>\n"
     ]
    }
   ],
   "source": [
    " # Tuple\n",
    "\n",
    "print(type((9.8, 3.14, 2.7)))   "
   ]
  }
 ],
 "metadata": {
  "kernelspec": {
   "display_name": "Python 3 (ipykernel)",
   "language": "python",
   "name": "python3"
  },
  "language_info": {
   "codemirror_mode": {
    "name": "ipython",
    "version": 3
   },
   "file_extension": ".py",
   "mimetype": "text/x-python",
   "name": "python",
   "nbconvert_exporter": "python",
   "pygments_lexer": "ipython3",
   "version": "3.11.3"
  }
 },
 "nbformat": 4,
 "nbformat_minor": 5
}
