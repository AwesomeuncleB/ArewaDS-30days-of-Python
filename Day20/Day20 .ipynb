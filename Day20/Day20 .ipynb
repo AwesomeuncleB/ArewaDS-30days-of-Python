{
 "cells": [
  {
   "cell_type": "code",
   "execution_count": 16,
   "id": "3e325acc",
   "metadata": {},
   "outputs": [
    {
     "name": "stdout",
     "output_type": "stream",
     "text": [
      "Response object: <Response [404]>\n",
      "Response status code: 404\n",
      "Response headers: {'date': 'Mon, 08 Jan 2024 18:40:10 GMT', 'server': 'Apache', 'last-modified': 'Mon, 01 May 2023 17:35:22 GMT', 'accept-ranges': 'bytes', 'content-length': '6392', 'content-type': 'text/html'}\n",
      "The most common words are: [('<li><a', 23), ('/>', 18), ('<meta', 13), ('<a', 10), ('<input', 9), ('<li>', 7), ('</li>', 7), ('<link', 6), ('<div', 6), ('of', 5)]\n"
     ]
    }
   ],
   "source": [
    "import requests\n",
    "from collections import Counter\n",
    "# noinspection PyUnresolvedReferences\n",
    "from pprint import pprint\n",
    "import numpy\n",
    "# noinspection PyUnresolvedReferences\n",
    "from bs4 import BeautifulSoup\n",
    "\n",
    "url =('https://www.gutenberg.org/files/1112/1112.txt')\n",
    "\n",
    "\n",
    "def most_common_words(text):\n",
    "    split_it = text.split()\n",
    "    Cnter = Counter(split_it).most_common()\n",
    "    #Cnter.sort(reverse=False)\n",
    "    return Cnter[:10]\n",
    "response = requests.get(url)\n",
    "print(f'Response object: {response}')\n",
    "print(f'Response status code: {response.status_code}')\n",
    "print(f'Response headers: {response.headers}')\n",
    "print(f'The most common words are: {most_common_words(response.text)}')"
   ]
  },
  {
   "cell_type": "code",
   "execution_count": 17,
   "id": "ac99d0be",
   "metadata": {},
   "outputs": [
    {
     "name": "stdout",
     "output_type": "stream",
     "text": [
      "WEIGHT DATA\n",
      "Standard Deviation: 1.06\n",
      "Minimum: 3.0\n",
      "Maximum: 7.5\n",
      "Median: 4.5\n",
      "Mean: 4.71\n",
      "LIFESPAN DATA\n",
      "Standard Deviation: 1.57\n",
      "Minimum: 10.5\n",
      "Maximum: 19.0\n",
      "Median: 13.5\n",
      "Mean: 13.75\n",
      "defaultdict(<class 'int'>, {'Egypt': 3, 'Greece': 1, 'United States': 28, 'United Arab Emirates': 1, 'Australia': 1, 'France': 2, 'United Kingdom': 8, 'Burma': 2, 'Canada': 3, 'Cyprus': 1, 'Russia': 4, 'China': 1, 'Japan': 1, 'Thailand': 4, 'Isle of Man': 1, 'Norway': 1, 'Iran (Persia)': 1, 'Singapore': 1, 'Somalia': 1, 'Turkey': 2})\n"
     ]
    }
   ],
   "source": [
    "cat_pi = requests.get('https://api.thecatapi.com/v1/breeds')\n",
    "data = cat_pi.json()\n",
    "\n",
    "\n",
    "def metric_weights(data):\n",
    "    metric_weights = []\n",
    "\n",
    "    for breed in data:\n",
    "        metric_weights.append(\n",
    "            (int(breed['weight']['metric'].split()[0]) + int(breed['weight']['metric'].split()[-1])) / 2)\n",
    "\n",
    "    median = numpy.median(metric_weights)\n",
    "    mean = numpy.mean(metric_weights)\n",
    "    min_metric = min(metric_weights)\n",
    "    max_metric = max(metric_weights)\n",
    "    sd = numpy.std(metric_weights)\n",
    "    print(\"WEIGHT DATA\")\n",
    "    print(\"Standard Deviation: %0.2f\" % sd)\n",
    "    print(\"Minimum:\", min_metric)\n",
    "    print(\"Maximum:\", max_metric)\n",
    "    print(\"Median:\", median)\n",
    "    print(\"Mean: %0.2f\" % mean)\n",
    "metric_weights(data)\n",
    "\n",
    "# num2_2nd\n",
    "def life_spans(data):\n",
    "    lifespans = []\n",
    "    for breed in data:\n",
    "        lifespans.append((int(breed['life_span'].split()[0]) + int(breed['life_span'].split()[-1])) / 2)\n",
    "\n",
    "    median = numpy.median(lifespans)\n",
    "    mean = numpy.mean(lifespans)\n",
    "    min_span = min(lifespans)\n",
    "    max_span = max(lifespans)\n",
    "    sd = numpy.std(lifespans)\n",
    "    print(\"LIFESPAN DATA\")\n",
    "    print(\"Standard Deviation: %0.2f\" % sd)\n",
    "    print(\"Minimum:\", min_span)\n",
    "    print(\"Maximum:\", max_span)\n",
    "    print(\"Median:\", median)\n",
    "    print(\"Mean: %0.2f\" % mean)\n",
    "life_spans(data)\n",
    "\n",
    "cats_api = 'https://api.thecatapi.com/v1/breeds'\n",
    "\n",
    "response = requests.get(cats_api)\n",
    "\n",
    "if response.status_code == 200:\n",
    "    cat_breeds = response.json()\n",
    "else:\n",
    "    print(\"Failed to retrieve information from API\")\n",
    "    \n",
    "# num2_3rd \n",
    "from collections import defaultdict \n",
    "frequency_table = defaultdict(int)\n",
    "breed_info = {}\n",
    "for breed in cat_breeds:\n",
    "    breed_info[breed['name']] = breed['origin']\n",
    "for breed in breed_info.values():\n",
    "    frequency_table[breed] += 1\n",
    "\n",
    "print(frequency_table)"
   ]
  }
 ],
 "metadata": {
  "kernelspec": {
   "display_name": "Python 3 (ipykernel)",
   "language": "python",
   "name": "python3"
  },
  "language_info": {
   "codemirror_mode": {
    "name": "ipython",
    "version": 3
   },
   "file_extension": ".py",
   "mimetype": "text/x-python",
   "name": "python",
   "nbconvert_exporter": "python",
   "pygments_lexer": "ipython3",
   "version": "3.11.3"
  }
 },
 "nbformat": 4,
 "nbformat_minor": 5
}
