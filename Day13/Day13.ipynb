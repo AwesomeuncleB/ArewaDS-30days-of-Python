{
 "cells": [
  {
   "cell_type": "code",
   "execution_count": 3,
   "id": "8a88e7e1",
   "metadata": {},
   "outputs": [
    {
     "name": "stdout",
     "output_type": "stream",
     "text": [
      "numbers: [-4, -3, -2, -1, 0, 2, 4, 6]\n",
      "filtered_numbers: [-4, -3, -2, -1, 0]\n"
     ]
    }
   ],
   "source": [
    "# Filter only negative and zero in the list using list comprehension\n",
    "numbers = [-4, -3, -2, -1, 0, 2, 4, 6]\n",
    "filtered_numbers = [num for num in numbers if num <= 0]\n",
    "\n",
    "# Display the result\n",
    "print(\"numbers:\", numbers)\n",
    "print(\"filtered_numbers:\", filtered_numbers)"
   ]
  },
  {
   "cell_type": "code",
   "execution_count": 4,
   "id": "7bbf3908",
   "metadata": {},
   "outputs": [
    {
     "name": "stdout",
     "output_type": "stream",
     "text": [
      "Original List of Lists of Lists:\n",
      "[[1, 2, 3]]\n",
      "[[4, 5, 6]]\n",
      "[[7, 8, 9]]\n",
      "\n",
      "Flattened List:\n",
      "[1, 2, 3, 4, 5, 6, 7, 8, 9]\n"
     ]
    }
   ],
   "source": [
    "# Example: Flatten the list of lists of lists to a one-dimensional list\n",
    "list_of_lists = [[[1, 2, 3]], [[4, 5, 6]], [[7, 8, 9]]]\n",
    "flattened_list = [num for sublist in list_of_lists for inner_list in sublist for num in inner_list]\n",
    "\n",
    "print(\"Original List of Lists of Lists:\")\n",
    "for sublist in list_of_lists:\n",
    "    print(sublist)\n",
    "\n",
    "print(\"\\nFlattened List:\")\n",
    "print(flattened_list)"
   ]
  },
  {
   "cell_type": "code",
   "execution_count": 5,
   "id": "57c54419",
   "metadata": {},
   "outputs": [
    {
     "name": "stdout",
     "output_type": "stream",
     "text": [
      "List of Tuples:\n",
      "(0, 1, 0, 0, 0, 0, 0)\n",
      "(1, 1, 1, 1, 1, 1, 1)\n",
      "(2, 1, 2, 4, 8, 16, 32)\n",
      "(3, 1, 3, 9, 27, 81, 243)\n",
      "(4, 1, 4, 16, 64, 256, 1024)\n",
      "(5, 1, 5, 25, 125, 625, 3125)\n",
      "(6, 1, 6, 36, 216, 1296, 7776)\n",
      "(7, 1, 7, 49, 343, 2401, 16807)\n",
      "(8, 1, 8, 64, 512, 4096, 32768)\n",
      "(9, 1, 9, 81, 729, 6561, 59049)\n",
      "(10, 1, 10, 100, 1000, 10000, 100000)\n"
     ]
    }
   ],
   "source": [
    "# Create a list of tuples using list comprehension\n",
    "tuple_list = [(i, 1, i, i**2, i**3, i**4, i**5) for i in range(11)]\n",
    "\n",
    "# Display the result\n",
    "print(\"List of Tuples:\")\n",
    "for tuple_item in tuple_list:\n",
    "    print(tuple_item)"
   ]
  },
  {
   "cell_type": "code",
   "execution_count": 6,
   "id": "1bfb93fc",
   "metadata": {},
   "outputs": [
    {
     "name": "stdout",
     "output_type": "stream",
     "text": [
      "Original List of Countries:\n",
      "[('Finland', 'Helsinki')]\n",
      "[('Sweden', 'Stockholm')]\n",
      "[('Norway', 'Oslo')]\n",
      "\n",
      "Flattened List of Countries:\n",
      "['FINLAND', 'FIN', 'HELSINKI']\n",
      "['SWEDEN', 'SWE', 'STOCKHOLM']\n",
      "['NORWAY', 'NOR', 'OSLO']\n"
     ]
    }
   ],
   "source": [
    "# Flatten the list of countries to a new list using list comprehension\n",
    "countries = [[('Finland', 'Helsinki')], [('Sweden', 'Stockholm')], [('Norway', 'Oslo')]]\n",
    "flattened_countries = [[country.upper(), country[:3].upper(), city.upper()] for sublist in countries for (country, city) in sublist]\n",
    "\n",
    "print(\"Original List of Countries:\")\n",
    "for sublist in countries:\n",
    "    print(sublist)\n",
    "\n",
    "print(\"\\nFlattened List of Countries:\")\n",
    "for country_info in flattened_countries:\n",
    "    print(country_info)"
   ]
  },
  {
   "cell_type": "code",
   "execution_count": 7,
   "id": "040ab6d8",
   "metadata": {},
   "outputs": [
    {
     "name": "stdout",
     "output_type": "stream",
     "text": [
      "Original List of Countries:\n",
      "[('Finland', 'Helsinki')]\n",
      "[('Sweden', 'Stockholm')]\n",
      "[('Norway', 'Oslo')]\n",
      "\n",
      "List of Dictionaries:\n",
      "{'country': 'FINLAND', 'city': 'HELSINKI'}\n",
      "{'country': 'SWEDEN', 'city': 'STOCKHOLM'}\n",
      "{'country': 'NORWAY', 'city': 'OSLO'}\n"
     ]
    }
   ],
   "source": [
    "# Change the list of countries to a list of dictionaries using list comprehension\n",
    "countries = [[('Finland', 'Helsinki')], [('Sweden', 'Stockholm')], [('Norway', 'Oslo')]]\n",
    "dict_countries = [{'country': country.upper(), 'city': city.upper()} for sublist in countries for (country, city) in sublist]\n",
    "\n",
    "print(\"Original List of Countries:\")\n",
    "for sublist in countries:\n",
    "    print(sublist)\n",
    "\n",
    "print(\"\\nList of Dictionaries:\")\n",
    "for country_info in dict_countries:\n",
    "    print(country_info)"
   ]
  },
  {
   "cell_type": "code",
   "execution_count": 8,
   "id": "959f77d3",
   "metadata": {},
   "outputs": [
    {
     "name": "stdout",
     "output_type": "stream",
     "text": [
      "Original List of Lists:\n",
      "[('Asabeneh', 'Yetayeh')]\n",
      "[('David', 'Smith')]\n",
      "[('Donald', 'Trump')]\n",
      "[('Bill', 'Gates')]\n",
      "\n",
      "List of Concatenated Names:\n",
      "Asabeneh Yetayeh\n",
      "David Smith\n",
      "Donald Trump\n",
      "Bill Gates\n"
     ]
    }
   ],
   "source": [
    "# Change the list of lists to a list of concatenated strings using list comprehension\n",
    "names = [[('Asabeneh', 'Yetayeh')], [('David', 'Smith')], [('Donald', 'Trump')], [('Bill', 'Gates')]]\n",
    "concatenated_names = [' '.join(name) for sublist in names for name in sublist]\n",
    "\n",
    "print(\"Original List of Lists:\")\n",
    "for sublist in names:\n",
    "    print(sublist)\n",
    "\n",
    "print(\"\\nList of Concatenated Names:\")\n",
    "for full_name in concatenated_names:\n",
    "    print(full_name)"
   ]
  },
  {
   "cell_type": "code",
   "execution_count": 9,
   "id": "6cfbf0b8",
   "metadata": {},
   "outputs": [
    {
     "name": "stdout",
     "output_type": "stream",
     "text": [
      "x values: [1, 2, 3, 4, 5]\n",
      "y values: [5, 7, 9, 11, 13]\n"
     ]
    }
   ],
   "source": [
    "# Lambda function for linear functions\n",
    "linear_function = lambda x, m, b: m * x + b\n",
    "\n",
    "# Example\n",
    "x_values = [1, 2, 3, 4, 5]\n",
    "slope = 2\n",
    "y_intercept = 3\n",
    "\n",
    "y_values = [linear_function(x, slope, y_intercept) for x in x_values]\n",
    "\n",
    "print(\"x values:\", x_values)\n",
    "print(\"y values:\", y_values)"
   ]
  }
 ],
 "metadata": {
  "kernelspec": {
   "display_name": "Python 3 (ipykernel)",
   "language": "python",
   "name": "python3"
  },
  "language_info": {
   "codemirror_mode": {
    "name": "ipython",
    "version": 3
   },
   "file_extension": ".py",
   "mimetype": "text/x-python",
   "name": "python",
   "nbconvert_exporter": "python",
   "pygments_lexer": "ipython3",
   "version": "3.11.3"
  }
 },
 "nbformat": 4,
 "nbformat_minor": 5
}
