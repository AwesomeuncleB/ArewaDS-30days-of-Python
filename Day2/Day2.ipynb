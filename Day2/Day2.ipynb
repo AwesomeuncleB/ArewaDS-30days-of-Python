{
 "cells": [
  {
   "cell_type": "code",
   "execution_count": 1,
   "id": "369a032c",
   "metadata": {},
   "outputs": [],
   "source": [
    "# Day 2: 30 Days of Python Programming\n",
    "\n",
    "\n",
    "first_name = \"John\"\n",
    "last_name = \"Doe\"\n",
    "full_name = \"John Doe\"\n",
    "country = \"United States\"\n",
    "city = \"New York\"\n",
    "age = 30\n",
    "year = 1992\n",
    "is_married = True\n",
    "is_true = False\n",
    "is_light_on = True\n",
    "variable1, variable2, variable3 = 10, \"Hello\", True\n"
   ]
  },
  {
   "cell_type": "code",
   "execution_count": 2,
   "id": "91c774e0",
   "metadata": {},
   "outputs": [
    {
     "name": "stdout",
     "output_type": "stream",
     "text": [
      "<class 'str'>\n",
      "<class 'str'>\n",
      "<class 'str'>\n",
      "<class 'str'>\n",
      "<class 'str'>\n",
      "<class 'int'>\n",
      "<class 'int'>\n",
      "<class 'bool'>\n",
      "<class 'bool'>\n",
      "<class 'bool'>\n"
     ]
    }
   ],
   "source": [
    "# Check the data type of variables\n",
    "print(type(first_name))\n",
    "print(type(last_name))\n",
    "print(type(full_name))\n",
    "print(type(country))\n",
    "print(type(city))\n",
    "print(type(age))\n",
    "print(type(year))\n",
    "print(type(is_married))\n",
    "print(type(is_true))\n",
    "print(type(is_light_on))"
   ]
  },
  {
   "cell_type": "code",
   "execution_count": 3,
   "id": "9435c883",
   "metadata": {},
   "outputs": [
    {
     "name": "stdout",
     "output_type": "stream",
     "text": [
      "Length of first name: 4\n",
      "Length of first name is equal to length of last name: False\n"
     ]
    }
   ],
   "source": [
    "# Using len() to find the length of the first name\n",
    "first_name_length = len(first_name)\n",
    "print(\"Length of first name:\", first_name_length)\n",
    "\n",
    "# Comparing the length of the first name and last name\n",
    "compare_length = first_name_length == len(last_name)\n",
    "print(\"Length of first name is equal to length of last name:\", compare_length)"
   ]
  },
  {
   "cell_type": "code",
   "execution_count": 4,
   "id": "aac94ce6",
   "metadata": {},
   "outputs": [],
   "source": [
    "# Declaring num_one and num_two\n",
    "num_one, num_two = 5, 4\n",
    "\n",
    "# Performing arithmetic operations\n",
    "total = num_one + num_two\n",
    "diff = num_one - num_two\n",
    "product = num_one * num_two\n",
    "division = num_one / num_two\n",
    "remainder = num_two % num_one\n",
    "exp = num_one ** num_two\n",
    "floor_division = num_one // num_two\n",
    "\n"
   ]
  },
  {
   "cell_type": "code",
   "execution_count": 5,
   "id": "fdcb5e51",
   "metadata": {},
   "outputs": [
    {
     "data": {
      "text/plain": [
       "9"
      ]
     },
     "execution_count": 5,
     "metadata": {},
     "output_type": "execute_result"
    }
   ],
   "source": [
    "total"
   ]
  },
  {
   "cell_type": "code",
   "execution_count": 6,
   "id": "d7a70be4",
   "metadata": {},
   "outputs": [
    {
     "data": {
      "text/plain": [
       "1"
      ]
     },
     "execution_count": 6,
     "metadata": {},
     "output_type": "execute_result"
    }
   ],
   "source": [
    "diff"
   ]
  },
  {
   "cell_type": "code",
   "execution_count": 7,
   "id": "48ffc9e9",
   "metadata": {},
   "outputs": [
    {
     "data": {
      "text/plain": [
       "20"
      ]
     },
     "execution_count": 7,
     "metadata": {},
     "output_type": "execute_result"
    }
   ],
   "source": [
    "product"
   ]
  },
  {
   "cell_type": "code",
   "execution_count": 8,
   "id": "eeead38a",
   "metadata": {},
   "outputs": [
    {
     "data": {
      "text/plain": [
       "1.25"
      ]
     },
     "execution_count": 8,
     "metadata": {},
     "output_type": "execute_result"
    }
   ],
   "source": [
    "division"
   ]
  },
  {
   "cell_type": "code",
   "execution_count": 9,
   "id": "2cedeb5d",
   "metadata": {},
   "outputs": [
    {
     "data": {
      "text/plain": [
       "4"
      ]
     },
     "execution_count": 9,
     "metadata": {},
     "output_type": "execute_result"
    }
   ],
   "source": [
    "remainder"
   ]
  },
  {
   "cell_type": "code",
   "execution_count": 10,
   "id": "bfd677a5",
   "metadata": {},
   "outputs": [
    {
     "data": {
      "text/plain": [
       "625"
      ]
     },
     "execution_count": 10,
     "metadata": {},
     "output_type": "execute_result"
    }
   ],
   "source": [
    "exp"
   ]
  },
  {
   "cell_type": "code",
   "execution_count": 11,
   "id": "d4cc9fd0",
   "metadata": {},
   "outputs": [
    {
     "data": {
      "text/plain": [
       "1"
      ]
     },
     "execution_count": 11,
     "metadata": {},
     "output_type": "execute_result"
    }
   ],
   "source": [
    "floor_division"
   ]
  },
  {
   "cell_type": "code",
   "execution_count": 12,
   "id": "89a339ce",
   "metadata": {},
   "outputs": [
    {
     "data": {
      "text/plain": [
       "2826.0"
      ]
     },
     "execution_count": 12,
     "metadata": {},
     "output_type": "execute_result"
    }
   ],
   "source": [
    "# the area and circumference of a circle\n",
    "radius_of_circle = 30\n",
    "area_of_circle = 3.14 * radius_of_circle**2\n",
    "circum_of_circle = 2 * 3.14 * radius_of_circle\n",
    "\n",
    "area_of_circle"
   ]
  },
  {
   "cell_type": "code",
   "execution_count": null,
   "id": "a83effac",
   "metadata": {},
   "outputs": [],
   "source": []
  },
  {
   "cell_type": "code",
   "execution_count": 13,
   "id": "914b725a",
   "metadata": {},
   "outputs": [
    {
     "name": "stdout",
     "output_type": "stream",
     "text": [
      "Enter the radius of the circle: 34\n"
     ]
    },
    {
     "data": {
      "text/plain": [
       "3629.84"
      ]
     },
     "execution_count": 13,
     "metadata": {},
     "output_type": "execute_result"
    }
   ],
   "source": [
    "# Taking radius as user input and calculating the area\n",
    "radius_input = float(input(\"Enter the radius of the circle: \"))\n",
    "area_of_circle_input = 3.14 * radius_input**2\n",
    "\n",
    "area_of_circle_input"
   ]
  },
  {
   "cell_type": "code",
   "execution_count": null,
   "id": "3a879ade",
   "metadata": {},
   "outputs": [],
   "source": []
  },
  {
   "cell_type": "code",
   "execution_count": 14,
   "id": "70bfde1b",
   "metadata": {},
   "outputs": [
    {
     "name": "stdout",
     "output_type": "stream",
     "text": [
      "Enter your first name: Bello\n",
      "Enter your last name: Abdullahi\n",
      "Enter your country: Nigeria\n",
      "Enter your age: 23\n"
     ]
    }
   ],
   "source": [
    "# Using input function to get user information\n",
    "user_first_name = input(\"Enter your first name: \")\n",
    "user_last_name = input(\"Enter your last name: \")\n",
    "user_country = input(\"Enter your country: \")\n",
    "user_age = int(input(\"Enter your age: \"))"
   ]
  },
  {
   "cell_type": "code",
   "execution_count": 15,
   "id": "1e55807f",
   "metadata": {},
   "outputs": [
    {
     "data": {
      "text/plain": [
       "'Bello'"
      ]
     },
     "execution_count": 15,
     "metadata": {},
     "output_type": "execute_result"
    }
   ],
   "source": [
    "user_first_name"
   ]
  },
  {
   "cell_type": "code",
   "execution_count": 16,
   "id": "60c61b3e",
   "metadata": {},
   "outputs": [
    {
     "data": {
      "text/plain": [
       "'Abdullahi'"
      ]
     },
     "execution_count": 16,
     "metadata": {},
     "output_type": "execute_result"
    }
   ],
   "source": [
    "user_last_name"
   ]
  },
  {
   "cell_type": "code",
   "execution_count": 17,
   "id": "c053d316",
   "metadata": {},
   "outputs": [
    {
     "data": {
      "text/plain": [
       "'Nigeria'"
      ]
     },
     "execution_count": 17,
     "metadata": {},
     "output_type": "execute_result"
    }
   ],
   "source": [
    "user_country"
   ]
  },
  {
   "cell_type": "code",
   "execution_count": 18,
   "id": "4358eb89",
   "metadata": {},
   "outputs": [
    {
     "data": {
      "text/plain": [
       "23"
      ]
     },
     "execution_count": 18,
     "metadata": {},
     "output_type": "execute_result"
    }
   ],
   "source": [
    "user_age"
   ]
  },
  {
   "cell_type": "code",
   "execution_count": 19,
   "id": "1159f852",
   "metadata": {},
   "outputs": [
    {
     "name": "stdout",
     "output_type": "stream",
     "text": [
      "\n",
      "Here is a list of the Python keywords.  Enter any keyword to get more help.\n",
      "\n",
      "False               class               from                or\n",
      "None                continue            global              pass\n",
      "True                def                 if                  raise\n",
      "and                 del                 import              return\n",
      "as                  elif                in                  try\n",
      "assert              else                is                  while\n",
      "async               except              lambda              with\n",
      "await               finally             nonlocal            yield\n",
      "break               for                 not                 \n",
      "\n"
     ]
    }
   ],
   "source": [
    "# Running help('keywords') to check Python reserved words or keywords\n",
    "help('keywords')"
   ]
  }
 ],
 "metadata": {
  "kernelspec": {
   "display_name": "Python 3 (ipykernel)",
   "language": "python",
   "name": "python3"
  },
  "language_info": {
   "codemirror_mode": {
    "name": "ipython",
    "version": 3
   },
   "file_extension": ".py",
   "mimetype": "text/x-python",
   "name": "python",
   "nbconvert_exporter": "python",
   "pygments_lexer": "ipython3",
   "version": "3.11.3"
  }
 },
 "nbformat": 4,
 "nbformat_minor": 5
}
