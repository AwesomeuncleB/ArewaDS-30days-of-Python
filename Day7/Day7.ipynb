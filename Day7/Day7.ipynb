{
 "cells": [
  {
   "cell_type": "code",
   "execution_count": 1,
   "id": "530582b4",
   "metadata": {},
   "outputs": [
    {
     "name": "stdout",
     "output_type": "stream",
     "text": [
      "Length of it_companies: 7\n"
     ]
    }
   ],
   "source": [
    "# Task 1: Find the length of the set it_companies\n",
    "it_companies = {'Facebook', 'Google', 'Microsoft', 'Apple', 'IBM', 'Oracle', 'Amazon'}\n",
    "length_of_it_companies = len(it_companies)\n",
    "print(f'Length of it_companies: {length_of_it_companies}')"
   ]
  },
  {
   "cell_type": "code",
   "execution_count": 2,
   "id": "273c2260",
   "metadata": {},
   "outputs": [
    {
     "name": "stdout",
     "output_type": "stream",
     "text": [
      "{'Twitter', 'Amazon', 'Oracle', 'IBM', 'Apple', 'Microsoft', 'Google', 'Facebook'}\n"
     ]
    }
   ],
   "source": [
    "# Task 2: Add 'Twitter' to it_companies\n",
    "it_companies.add('Twitter')\n",
    "print(it_companies)"
   ]
  },
  {
   "cell_type": "code",
   "execution_count": 3,
   "id": "9c9316ea",
   "metadata": {},
   "outputs": [
    {
     "name": "stdout",
     "output_type": "stream",
     "text": [
      "{'Amazon', 'Salesforce', 'LinkedIn', 'Microsoft', 'Intel', 'Apple', 'Oracle', 'IBM', 'Twitter', 'Google', 'Facebook'}\n"
     ]
    }
   ],
   "source": [
    "# Task 3: Insert multiple IT companies at once to the set it_companies\n",
    "it_companies.update({'LinkedIn', 'Salesforce', 'Intel'})\n",
    "print(it_companies)"
   ]
  },
  {
   "cell_type": "code",
   "execution_count": 4,
   "id": "5d88bf3e",
   "metadata": {},
   "outputs": [
    {
     "name": "stdout",
     "output_type": "stream",
     "text": [
      "{'Amazon', 'Salesforce', 'LinkedIn', 'Microsoft', 'Apple', 'Oracle', 'IBM', 'Twitter', 'Google', 'Facebook'}\n"
     ]
    }
   ],
   "source": [
    "# Task 4: Remove one of the companies from the set it_companies\n",
    "it_companies.remove('Intel')\n",
    "print(it_companies)"
   ]
  },
  {
   "cell_type": "markdown",
   "id": "aef3d6d8",
   "metadata": {},
   "source": [
    "# Task 5: What is the difference between remove and discard\n",
    " The remove method raises an error if the specified element is not present, while discard does not.\n",
    " If the element is not present, discard does nothing.\n"
   ]
  },
  {
   "cell_type": "code",
   "execution_count": 5,
   "id": "cb11473f",
   "metadata": {},
   "outputs": [
    {
     "name": "stdout",
     "output_type": "stream",
     "text": [
      "{1, 2, 3, 4, 5, 6, 7, 8}\n"
     ]
    }
   ],
   "source": [
    "# Given sets A and B\n",
    "A = {1, 2, 3, 4, 5}\n",
    "B = {4, 5, 6, 7, 8}\n",
    "\n",
    "# Task 1: Join A and B\n",
    "join_A_B = A.union(B)\n",
    "print(join_A_B)"
   ]
  },
  {
   "cell_type": "code",
   "execution_count": 6,
   "id": "4ab95dbe",
   "metadata": {},
   "outputs": [
    {
     "name": "stdout",
     "output_type": "stream",
     "text": [
      "{4, 5}\n"
     ]
    }
   ],
   "source": [
    "# Task 2: Find A intersection B\n",
    "intersection_A_B = A.intersection(B)\n",
    "print(intersection_A_B)"
   ]
  },
  {
   "cell_type": "code",
   "execution_count": 7,
   "id": "c70fedf9",
   "metadata": {},
   "outputs": [
    {
     "name": "stdout",
     "output_type": "stream",
     "text": [
      "Is A a subset of B? False\n"
     ]
    }
   ],
   "source": [
    "# Task 3: Is A subset of B\n",
    "is_A_subset_of_B = A.issubset(B)\n",
    "print(f'Is A a subset of B? {is_A_subset_of_B}')"
   ]
  },
  {
   "cell_type": "code",
   "execution_count": 8,
   "id": "9c59fb01",
   "metadata": {},
   "outputs": [
    {
     "name": "stdout",
     "output_type": "stream",
     "text": [
      "Are A and B disjoint sets? False\n"
     ]
    }
   ],
   "source": [
    "# Task 4: Are A and B disjoint sets\n",
    "are_A_and_B_disjoint = A.isdisjoint(B)\n",
    "print(f'Are A and B disjoint sets? {are_A_and_B_disjoint}')"
   ]
  },
  {
   "cell_type": "code",
   "execution_count": 9,
   "id": "cfd4226f",
   "metadata": {},
   "outputs": [
    {
     "name": "stdout",
     "output_type": "stream",
     "text": [
      "{1, 2, 3, 4, 5, 6, 7, 8}\n",
      "{1, 2, 3, 4, 5, 6, 7, 8}\n"
     ]
    }
   ],
   "source": [
    "# Task 5: Join A with B and B with A\n",
    "A_B = A.union(B)\n",
    "B_A = B.union(A)\n",
    "print(A_B)\n",
    "print(B_A)"
   ]
  },
  {
   "cell_type": "code",
   "execution_count": 10,
   "id": "4bed6312",
   "metadata": {},
   "outputs": [
    {
     "name": "stdout",
     "output_type": "stream",
     "text": [
      "{1, 2, 3, 6, 7, 8}\n"
     ]
    }
   ],
   "source": [
    "# Task 6: What is the symmetric difference between A and B\n",
    "symmetric_difference_A_B = A.symmetric_difference(B)\n",
    "print(symmetric_difference_A_B)"
   ]
  },
  {
   "cell_type": "code",
   "execution_count": 11,
   "id": "b30eced0",
   "metadata": {},
   "outputs": [],
   "source": [
    "# Task 7: Delete the sets completely\n",
    "del A\n",
    "del B"
   ]
  },
  {
   "cell_type": "code",
   "execution_count": 12,
   "id": "b4861fad",
   "metadata": {},
   "outputs": [
    {
     "ename": "NameError",
     "evalue": "name 'A' is not defined",
     "output_type": "error",
     "traceback": [
      "\u001b[1;31m---------------------------------------------------------------------------\u001b[0m",
      "\u001b[1;31mNameError\u001b[0m                                 Traceback (most recent call last)",
      "Cell \u001b[1;32mIn[12], line 1\u001b[0m\n\u001b[1;32m----> 1\u001b[0m \u001b[43mA\u001b[49m\n",
      "\u001b[1;31mNameError\u001b[0m: name 'A' is not defined"
     ]
    }
   ],
   "source": [
    "A"
   ]
  },
  {
   "cell_type": "code",
   "execution_count": 13,
   "id": "8c67ec40",
   "metadata": {},
   "outputs": [
    {
     "ename": "NameError",
     "evalue": "name 'B' is not defined",
     "output_type": "error",
     "traceback": [
      "\u001b[1;31m---------------------------------------------------------------------------\u001b[0m",
      "\u001b[1;31mNameError\u001b[0m                                 Traceback (most recent call last)",
      "Cell \u001b[1;32mIn[13], line 1\u001b[0m\n\u001b[1;32m----> 1\u001b[0m \u001b[43mB\u001b[49m\n",
      "\u001b[1;31mNameError\u001b[0m: name 'B' is not defined"
     ]
    }
   ],
   "source": [
    "B"
   ]
  },
  {
   "cell_type": "code",
   "execution_count": 14,
   "id": "08e2b61c",
   "metadata": {},
   "outputs": [
    {
     "name": "stdout",
     "output_type": "stream",
     "text": [
      "Length of ages list: 10\n",
      "Length of ages set: 6\n"
     ]
    }
   ],
   "source": [
    "# Given ages list\n",
    "ages = [19, 22, 19, 24, 20, 25, 26, 24, 25, 24]\n",
    "\n",
    "# Task 1: Convert the ages to a set and compare the length of the list and the set\n",
    "ages_set = set(ages)\n",
    "length_of_ages_list = len(ages)\n",
    "length_of_ages_set = len(ages_set)\n",
    "print(f'Length of ages list: {length_of_ages_list}')\n",
    "print(f'Length of ages set: {length_of_ages_set}')"
   ]
  },
  {
   "cell_type": "markdown",
   "id": "57db4272",
   "metadata": {},
   "source": [
    "# Task 2: Explain the difference between string, list, tuple, and set\n",
    "\n",
    " - String: An ordered collection of characters. It is immutable (cannot be modified after creation).\n",
    " - List: An ordered collection of items. It is mutable, and items can be added, removed, or modified.\n",
    " - Tuple: An ordered collection of items. It is immutable, like a list but cannot be modified after creation.\n",
    " - Set: An unordered collection of unique items. It does not allow duplicate elements."
   ]
  },
  {
   "cell_type": "code",
   "execution_count": 16,
   "id": "3010bbf1",
   "metadata": {},
   "outputs": [
    {
     "name": "stdout",
     "output_type": "stream",
     "text": [
      "Number of unique words: 10\n"
     ]
    }
   ],
   "source": [
    "# Task 3: Count unique words in a sentence\n",
    "sentence = \"I am a teacher and I love to inspire and teach people.\"\n",
    "unique_words = set(sentence.split())\n",
    "num_unique_words = len(unique_words)\n",
    "print(f'Number of unique words: {num_unique_words}')"
   ]
  }
 ],
 "metadata": {
  "kernelspec": {
   "display_name": "Python 3 (ipykernel)",
   "language": "python",
   "name": "python3"
  },
  "language_info": {
   "codemirror_mode": {
    "name": "ipython",
    "version": 3
   },
   "file_extension": ".py",
   "mimetype": "text/x-python",
   "name": "python",
   "nbconvert_exporter": "python",
   "pygments_lexer": "ipython3",
   "version": "3.11.3"
  }
 },
 "nbformat": 4,
 "nbformat_minor": 5
}
